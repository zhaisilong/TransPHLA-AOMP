{
 "cells": [
  {
   "cell_type": "code",
   "execution_count": 86,
   "metadata": {
    "collapsed": true
   },
   "outputs": [],
   "source": [
    "import numpy as np\n",
    "import pandas as pd\n",
    "\n",
    "aatype_position = np.load('./Attention/peptideAAtype_peptidePosition/Allsamples_Alllengths.npy',\n",
    "                                  allow_pickle = True).item()[9]['positive']"
   ]
  },
  {
   "cell_type": "code",
   "execution_count": 87,
   "outputs": [
    {
     "data": {
      "text/plain": "              1             2             3             4             5  \\\n                                                                          \nA  14796.531250  13360.133789  15409.751953  10180.011719   9139.616211   \nR  14442.974609  16971.283203   7470.427734   6634.114746  12053.684570   \nN   5552.497559    763.663940   8449.290039   6912.929688   6547.771973   \nD   5854.516113    904.174744  14208.853516  16376.050781   6061.761719   \nC    473.642029    277.233032    805.484314    645.796936    732.775330   \nQ   6045.675293   8780.780273   5880.375488   8001.804688   6738.534668   \nE   9245.448242  21771.259766   4918.909668  20299.480469   8083.514160   \nG   7673.862305   1880.408936   4239.110840  11903.602539  10335.479492   \nH   6015.799316   4687.670410   5010.191406   3583.172852   6160.166504   \nI   9161.349609   7825.583496  12984.074219   5320.189453  11559.784180   \nL  11593.779297  26613.777344  14956.919922  10306.458984  14237.741211   \nK  14083.271484    473.244659  10233.182617  10342.925781  12387.769531   \nM   5446.257812   5286.792480   6274.744141   1991.662964   2477.861816   \nF  12847.973633   3771.182861  12847.016602   4372.912109   8362.443359   \nP    554.645264  15217.701172   4868.598633  18070.822266   9250.326172   \nS  16130.511719   8887.894531  11062.186523  12358.838867  10282.431641   \nT   9383.590820  11131.396484   6266.362793   6937.879883   8641.627930   \nW   1283.646362    554.573059   2491.454590   1350.515991   2044.516235   \nY  11371.190430   8225.200195   9856.078125   2869.916992   5313.522461   \nV   9492.099609  12763.756836   9010.947266   6169.026855  13195.788086   \n\n              6             7             8             9  \n                                                           \nA  10094.733398  11281.487305  15633.951172   6452.364746  \nR   7306.851074   7211.404297   8386.330078   6672.601074  \nN   6033.600586   6897.372070   6417.417480     48.484898  \nD   4139.432129   3984.959229   2845.580811     15.050852  \nC    944.538452    795.696838    835.479919    195.705521  \nQ   7768.918457  10104.657227  10377.980469     64.554596  \nE   6055.604004  10128.474609  14794.246094     84.035866  \nG   8608.592773   3058.994873   6984.317383     65.690392  \nH   4415.380859   8190.083496   4721.206543    962.082092  \nI  16023.166992  11155.975586   4149.960938  13447.553711  \nL  18201.724609  19976.060547  13319.958984  52353.242188  \nK   6783.013184   6279.301758  11021.688477   8514.870117  \nM   3095.404053   3519.433594   2529.331787   6567.561035  \nF   9630.443359   7729.421387   5528.560059  22911.843750  \nP   9999.250977   8824.632812   3985.010498    677.226318  \nS  10988.285156  10529.288086  19144.380859    205.016541  \nT  11413.706055  10821.301758  15627.798828    777.139221  \nW   1312.080078   2463.665283    727.830688   5112.536133  \nY   4092.546387   6018.459473   5865.036621  21981.199219  \nV  16408.480469  14624.652344  11036.987305  20172.697266  ",
      "text/html": "<div>\n<style scoped>\n    .dataframe tbody tr th:only-of-type {\n        vertical-align: middle;\n    }\n\n    .dataframe tbody tr th {\n        vertical-align: top;\n    }\n\n    .dataframe thead th {\n        text-align: right;\n    }\n</style>\n<table border=\"1\" class=\"dataframe\">\n  <thead>\n    <tr style=\"text-align: right;\">\n      <th></th>\n      <th>1</th>\n      <th>2</th>\n      <th>3</th>\n      <th>4</th>\n      <th>5</th>\n      <th>6</th>\n      <th>7</th>\n      <th>8</th>\n      <th>9</th>\n    </tr>\n    <tr>\n      <th></th>\n      <th></th>\n      <th></th>\n      <th></th>\n      <th></th>\n      <th></th>\n      <th></th>\n      <th></th>\n      <th></th>\n      <th></th>\n    </tr>\n  </thead>\n  <tbody>\n    <tr>\n      <th>A</th>\n      <td>14796.531250</td>\n      <td>13360.133789</td>\n      <td>15409.751953</td>\n      <td>10180.011719</td>\n      <td>9139.616211</td>\n      <td>10094.733398</td>\n      <td>11281.487305</td>\n      <td>15633.951172</td>\n      <td>6452.364746</td>\n    </tr>\n    <tr>\n      <th>R</th>\n      <td>14442.974609</td>\n      <td>16971.283203</td>\n      <td>7470.427734</td>\n      <td>6634.114746</td>\n      <td>12053.684570</td>\n      <td>7306.851074</td>\n      <td>7211.404297</td>\n      <td>8386.330078</td>\n      <td>6672.601074</td>\n    </tr>\n    <tr>\n      <th>N</th>\n      <td>5552.497559</td>\n      <td>763.663940</td>\n      <td>8449.290039</td>\n      <td>6912.929688</td>\n      <td>6547.771973</td>\n      <td>6033.600586</td>\n      <td>6897.372070</td>\n      <td>6417.417480</td>\n      <td>48.484898</td>\n    </tr>\n    <tr>\n      <th>D</th>\n      <td>5854.516113</td>\n      <td>904.174744</td>\n      <td>14208.853516</td>\n      <td>16376.050781</td>\n      <td>6061.761719</td>\n      <td>4139.432129</td>\n      <td>3984.959229</td>\n      <td>2845.580811</td>\n      <td>15.050852</td>\n    </tr>\n    <tr>\n      <th>C</th>\n      <td>473.642029</td>\n      <td>277.233032</td>\n      <td>805.484314</td>\n      <td>645.796936</td>\n      <td>732.775330</td>\n      <td>944.538452</td>\n      <td>795.696838</td>\n      <td>835.479919</td>\n      <td>195.705521</td>\n    </tr>\n    <tr>\n      <th>Q</th>\n      <td>6045.675293</td>\n      <td>8780.780273</td>\n      <td>5880.375488</td>\n      <td>8001.804688</td>\n      <td>6738.534668</td>\n      <td>7768.918457</td>\n      <td>10104.657227</td>\n      <td>10377.980469</td>\n      <td>64.554596</td>\n    </tr>\n    <tr>\n      <th>E</th>\n      <td>9245.448242</td>\n      <td>21771.259766</td>\n      <td>4918.909668</td>\n      <td>20299.480469</td>\n      <td>8083.514160</td>\n      <td>6055.604004</td>\n      <td>10128.474609</td>\n      <td>14794.246094</td>\n      <td>84.035866</td>\n    </tr>\n    <tr>\n      <th>G</th>\n      <td>7673.862305</td>\n      <td>1880.408936</td>\n      <td>4239.110840</td>\n      <td>11903.602539</td>\n      <td>10335.479492</td>\n      <td>8608.592773</td>\n      <td>3058.994873</td>\n      <td>6984.317383</td>\n      <td>65.690392</td>\n    </tr>\n    <tr>\n      <th>H</th>\n      <td>6015.799316</td>\n      <td>4687.670410</td>\n      <td>5010.191406</td>\n      <td>3583.172852</td>\n      <td>6160.166504</td>\n      <td>4415.380859</td>\n      <td>8190.083496</td>\n      <td>4721.206543</td>\n      <td>962.082092</td>\n    </tr>\n    <tr>\n      <th>I</th>\n      <td>9161.349609</td>\n      <td>7825.583496</td>\n      <td>12984.074219</td>\n      <td>5320.189453</td>\n      <td>11559.784180</td>\n      <td>16023.166992</td>\n      <td>11155.975586</td>\n      <td>4149.960938</td>\n      <td>13447.553711</td>\n    </tr>\n    <tr>\n      <th>L</th>\n      <td>11593.779297</td>\n      <td>26613.777344</td>\n      <td>14956.919922</td>\n      <td>10306.458984</td>\n      <td>14237.741211</td>\n      <td>18201.724609</td>\n      <td>19976.060547</td>\n      <td>13319.958984</td>\n      <td>52353.242188</td>\n    </tr>\n    <tr>\n      <th>K</th>\n      <td>14083.271484</td>\n      <td>473.244659</td>\n      <td>10233.182617</td>\n      <td>10342.925781</td>\n      <td>12387.769531</td>\n      <td>6783.013184</td>\n      <td>6279.301758</td>\n      <td>11021.688477</td>\n      <td>8514.870117</td>\n    </tr>\n    <tr>\n      <th>M</th>\n      <td>5446.257812</td>\n      <td>5286.792480</td>\n      <td>6274.744141</td>\n      <td>1991.662964</td>\n      <td>2477.861816</td>\n      <td>3095.404053</td>\n      <td>3519.433594</td>\n      <td>2529.331787</td>\n      <td>6567.561035</td>\n    </tr>\n    <tr>\n      <th>F</th>\n      <td>12847.973633</td>\n      <td>3771.182861</td>\n      <td>12847.016602</td>\n      <td>4372.912109</td>\n      <td>8362.443359</td>\n      <td>9630.443359</td>\n      <td>7729.421387</td>\n      <td>5528.560059</td>\n      <td>22911.843750</td>\n    </tr>\n    <tr>\n      <th>P</th>\n      <td>554.645264</td>\n      <td>15217.701172</td>\n      <td>4868.598633</td>\n      <td>18070.822266</td>\n      <td>9250.326172</td>\n      <td>9999.250977</td>\n      <td>8824.632812</td>\n      <td>3985.010498</td>\n      <td>677.226318</td>\n    </tr>\n    <tr>\n      <th>S</th>\n      <td>16130.511719</td>\n      <td>8887.894531</td>\n      <td>11062.186523</td>\n      <td>12358.838867</td>\n      <td>10282.431641</td>\n      <td>10988.285156</td>\n      <td>10529.288086</td>\n      <td>19144.380859</td>\n      <td>205.016541</td>\n    </tr>\n    <tr>\n      <th>T</th>\n      <td>9383.590820</td>\n      <td>11131.396484</td>\n      <td>6266.362793</td>\n      <td>6937.879883</td>\n      <td>8641.627930</td>\n      <td>11413.706055</td>\n      <td>10821.301758</td>\n      <td>15627.798828</td>\n      <td>777.139221</td>\n    </tr>\n    <tr>\n      <th>W</th>\n      <td>1283.646362</td>\n      <td>554.573059</td>\n      <td>2491.454590</td>\n      <td>1350.515991</td>\n      <td>2044.516235</td>\n      <td>1312.080078</td>\n      <td>2463.665283</td>\n      <td>727.830688</td>\n      <td>5112.536133</td>\n    </tr>\n    <tr>\n      <th>Y</th>\n      <td>11371.190430</td>\n      <td>8225.200195</td>\n      <td>9856.078125</td>\n      <td>2869.916992</td>\n      <td>5313.522461</td>\n      <td>4092.546387</td>\n      <td>6018.459473</td>\n      <td>5865.036621</td>\n      <td>21981.199219</td>\n    </tr>\n    <tr>\n      <th>V</th>\n      <td>9492.099609</td>\n      <td>12763.756836</td>\n      <td>9010.947266</td>\n      <td>6169.026855</td>\n      <td>13195.788086</td>\n      <td>16408.480469</td>\n      <td>14624.652344</td>\n      <td>11036.987305</td>\n      <td>20172.697266</td>\n    </tr>\n  </tbody>\n</table>\n</div>"
     },
     "execution_count": 87,
     "metadata": {},
     "output_type": "execute_result"
    }
   ],
   "source": [
    "aatype_position"
   ],
   "metadata": {
    "collapsed": false,
    "pycharm": {
     "name": "#%%\n"
    }
   }
  },
  {
   "cell_type": "code",
   "execution_count": 75,
   "outputs": [
    {
     "data": {
      "text/plain": "[171449.26275634766,\n 170147.7112121582,\n 167243.9603881836,\n 164628.11456298828,\n 163607.11724853516,\n 163315.7530517578,\n 163595.32257080078,\n 163933.05499267578,\n 167281.45553398132]"
     },
     "execution_count": 75,
     "metadata": {},
     "output_type": "execute_result"
    }
   ],
   "source": [
    "aatype_position.sum(axis=0).to_list()"
   ],
   "metadata": {
    "collapsed": false,
    "pycharm": {
     "name": "#%%\n"
    }
   }
  },
  {
   "cell_type": "code",
   "execution_count": 90,
   "outputs": [],
   "source": [
    "df1=pd.DataFrame([aatype_position.sum(axis=0).to_list()], index=pd.Index(['sum'], dtype='category'))\n",
    "df1.astype('int64')\n",
    "df2 = aatype_position"
   ],
   "metadata": {
    "collapsed": false,
    "pycharm": {
     "name": "#%%\n"
    }
   }
  },
  {
   "cell_type": "code",
   "execution_count": 77,
   "outputs": [
    {
     "data": {
      "text/plain": "((1, 9), (20, 9))"
     },
     "execution_count": 77,
     "metadata": {},
     "output_type": "execute_result"
    }
   ],
   "source": [
    "df1.shape, df2.shape"
   ],
   "metadata": {
    "collapsed": false,
    "pycharm": {
     "name": "#%%\n"
    }
   }
  },
  {
   "cell_type": "code",
   "execution_count": 78,
   "outputs": [
    {
     "data": {
      "text/plain": "Int64Index([1, 2, 3, 4, 5, 6, 7, 8, 9], dtype='int64')"
     },
     "execution_count": 78,
     "metadata": {},
     "output_type": "execute_result"
    }
   ],
   "source": [
    "df2.columns"
   ],
   "metadata": {
    "collapsed": false,
    "pycharm": {
     "name": "#%%\n"
    }
   }
  },
  {
   "cell_type": "code",
   "execution_count": 79,
   "outputs": [
    {
     "ename": "TypeError",
     "evalue": "categories must match existing categories when appending",
     "output_type": "error",
     "traceback": [
      "\u001B[0;31m---------------------------------------------------------------------------\u001B[0m",
      "\u001B[0;31mTypeError\u001B[0m                                 Traceback (most recent call last)",
      "\u001B[0;32m/tmp/ipykernel_202667/4078762226.py\u001B[0m in \u001B[0;36m<module>\u001B[0;34m\u001B[0m\n\u001B[0;32m----> 1\u001B[0;31m \u001B[0mpd\u001B[0m\u001B[0;34m.\u001B[0m\u001B[0mconcat\u001B[0m\u001B[0;34m(\u001B[0m\u001B[0;34m[\u001B[0m\u001B[0mdf1\u001B[0m \u001B[0;34m,\u001B[0m \u001B[0mdf2\u001B[0m\u001B[0;34m]\u001B[0m\u001B[0;34m,\u001B[0m \u001B[0maxis\u001B[0m\u001B[0;34m=\u001B[0m\u001B[0;36m0\u001B[0m\u001B[0;34m)\u001B[0m\u001B[0;34m\u001B[0m\u001B[0;34m\u001B[0m\u001B[0m\n\u001B[0m",
      "\u001B[0;32m~/projects/TransPHLA-AOMP/.venv/lib/python3.7/site-packages/pandas/core/reshape/concat.py\u001B[0m in \u001B[0;36mconcat\u001B[0;34m(objs, axis, join, ignore_index, keys, levels, names, verify_integrity, sort, copy)\u001B[0m\n\u001B[1;32m    282\u001B[0m         \u001B[0mverify_integrity\u001B[0m\u001B[0;34m=\u001B[0m\u001B[0mverify_integrity\u001B[0m\u001B[0;34m,\u001B[0m\u001B[0;34m\u001B[0m\u001B[0;34m\u001B[0m\u001B[0m\n\u001B[1;32m    283\u001B[0m         \u001B[0mcopy\u001B[0m\u001B[0;34m=\u001B[0m\u001B[0mcopy\u001B[0m\u001B[0;34m,\u001B[0m\u001B[0;34m\u001B[0m\u001B[0;34m\u001B[0m\u001B[0m\n\u001B[0;32m--> 284\u001B[0;31m         \u001B[0msort\u001B[0m\u001B[0;34m=\u001B[0m\u001B[0msort\u001B[0m\u001B[0;34m,\u001B[0m\u001B[0;34m\u001B[0m\u001B[0;34m\u001B[0m\u001B[0m\n\u001B[0m\u001B[1;32m    285\u001B[0m     )\n\u001B[1;32m    286\u001B[0m \u001B[0;34m\u001B[0m\u001B[0m\n",
      "\u001B[0;32m~/projects/TransPHLA-AOMP/.venv/lib/python3.7/site-packages/pandas/core/reshape/concat.py\u001B[0m in \u001B[0;36m__init__\u001B[0;34m(self, objs, axis, join, keys, levels, names, ignore_index, verify_integrity, copy, sort)\u001B[0m\n\u001B[1;32m    452\u001B[0m         \u001B[0mself\u001B[0m\u001B[0;34m.\u001B[0m\u001B[0mcopy\u001B[0m \u001B[0;34m=\u001B[0m \u001B[0mcopy\u001B[0m\u001B[0;34m\u001B[0m\u001B[0;34m\u001B[0m\u001B[0m\n\u001B[1;32m    453\u001B[0m \u001B[0;34m\u001B[0m\u001B[0m\n\u001B[0;32m--> 454\u001B[0;31m         \u001B[0mself\u001B[0m\u001B[0;34m.\u001B[0m\u001B[0mnew_axes\u001B[0m \u001B[0;34m=\u001B[0m \u001B[0mself\u001B[0m\u001B[0;34m.\u001B[0m\u001B[0m_get_new_axes\u001B[0m\u001B[0;34m(\u001B[0m\u001B[0;34m)\u001B[0m\u001B[0;34m\u001B[0m\u001B[0;34m\u001B[0m\u001B[0m\n\u001B[0m\u001B[1;32m    455\u001B[0m \u001B[0;34m\u001B[0m\u001B[0m\n\u001B[1;32m    456\u001B[0m     \u001B[0;32mdef\u001B[0m \u001B[0mget_result\u001B[0m\u001B[0;34m(\u001B[0m\u001B[0mself\u001B[0m\u001B[0;34m)\u001B[0m\u001B[0;34m:\u001B[0m\u001B[0;34m\u001B[0m\u001B[0;34m\u001B[0m\u001B[0m\n",
      "\u001B[0;32m~/projects/TransPHLA-AOMP/.venv/lib/python3.7/site-packages/pandas/core/reshape/concat.py\u001B[0m in \u001B[0;36m_get_new_axes\u001B[0;34m(self)\u001B[0m\n\u001B[1;32m    519\u001B[0m         return [\n\u001B[1;32m    520\u001B[0m             \u001B[0mself\u001B[0m\u001B[0;34m.\u001B[0m\u001B[0m_get_concat_axis\u001B[0m\u001B[0;34m(\u001B[0m\u001B[0;34m)\u001B[0m \u001B[0;32mif\u001B[0m \u001B[0mi\u001B[0m \u001B[0;34m==\u001B[0m \u001B[0mself\u001B[0m\u001B[0;34m.\u001B[0m\u001B[0mbm_axis\u001B[0m \u001B[0;32melse\u001B[0m \u001B[0mself\u001B[0m\u001B[0;34m.\u001B[0m\u001B[0m_get_comb_axis\u001B[0m\u001B[0;34m(\u001B[0m\u001B[0mi\u001B[0m\u001B[0;34m)\u001B[0m\u001B[0;34m\u001B[0m\u001B[0;34m\u001B[0m\u001B[0m\n\u001B[0;32m--> 521\u001B[0;31m             \u001B[0;32mfor\u001B[0m \u001B[0mi\u001B[0m \u001B[0;32min\u001B[0m \u001B[0mrange\u001B[0m\u001B[0;34m(\u001B[0m\u001B[0mndim\u001B[0m\u001B[0;34m)\u001B[0m\u001B[0;34m\u001B[0m\u001B[0;34m\u001B[0m\u001B[0m\n\u001B[0m\u001B[1;32m    522\u001B[0m         ]\n\u001B[1;32m    523\u001B[0m \u001B[0;34m\u001B[0m\u001B[0m\n",
      "\u001B[0;32m~/projects/TransPHLA-AOMP/.venv/lib/python3.7/site-packages/pandas/core/reshape/concat.py\u001B[0m in \u001B[0;36m<listcomp>\u001B[0;34m(.0)\u001B[0m\n\u001B[1;32m    519\u001B[0m         return [\n\u001B[1;32m    520\u001B[0m             \u001B[0mself\u001B[0m\u001B[0;34m.\u001B[0m\u001B[0m_get_concat_axis\u001B[0m\u001B[0;34m(\u001B[0m\u001B[0;34m)\u001B[0m \u001B[0;32mif\u001B[0m \u001B[0mi\u001B[0m \u001B[0;34m==\u001B[0m \u001B[0mself\u001B[0m\u001B[0;34m.\u001B[0m\u001B[0mbm_axis\u001B[0m \u001B[0;32melse\u001B[0m \u001B[0mself\u001B[0m\u001B[0;34m.\u001B[0m\u001B[0m_get_comb_axis\u001B[0m\u001B[0;34m(\u001B[0m\u001B[0mi\u001B[0m\u001B[0;34m)\u001B[0m\u001B[0;34m\u001B[0m\u001B[0;34m\u001B[0m\u001B[0m\n\u001B[0;32m--> 521\u001B[0;31m             \u001B[0;32mfor\u001B[0m \u001B[0mi\u001B[0m \u001B[0;32min\u001B[0m \u001B[0mrange\u001B[0m\u001B[0;34m(\u001B[0m\u001B[0mndim\u001B[0m\u001B[0;34m)\u001B[0m\u001B[0;34m\u001B[0m\u001B[0;34m\u001B[0m\u001B[0m\n\u001B[0m\u001B[1;32m    522\u001B[0m         ]\n\u001B[1;32m    523\u001B[0m \u001B[0;34m\u001B[0m\u001B[0m\n",
      "\u001B[0;32m~/projects/TransPHLA-AOMP/.venv/lib/python3.7/site-packages/pandas/core/reshape/concat.py\u001B[0m in \u001B[0;36m_get_concat_axis\u001B[0;34m(self)\u001B[0m\n\u001B[1;32m    572\u001B[0m \u001B[0;34m\u001B[0m\u001B[0m\n\u001B[1;32m    573\u001B[0m         \u001B[0;32mif\u001B[0m \u001B[0mself\u001B[0m\u001B[0;34m.\u001B[0m\u001B[0mkeys\u001B[0m \u001B[0;32mis\u001B[0m \u001B[0;32mNone\u001B[0m\u001B[0;34m:\u001B[0m\u001B[0;34m\u001B[0m\u001B[0;34m\u001B[0m\u001B[0m\n\u001B[0;32m--> 574\u001B[0;31m             \u001B[0mconcat_axis\u001B[0m \u001B[0;34m=\u001B[0m \u001B[0m_concat_indexes\u001B[0m\u001B[0;34m(\u001B[0m\u001B[0mindexes\u001B[0m\u001B[0;34m)\u001B[0m\u001B[0;34m\u001B[0m\u001B[0;34m\u001B[0m\u001B[0m\n\u001B[0m\u001B[1;32m    575\u001B[0m         \u001B[0;32melse\u001B[0m\u001B[0;34m:\u001B[0m\u001B[0;34m\u001B[0m\u001B[0;34m\u001B[0m\u001B[0m\n\u001B[1;32m    576\u001B[0m             concat_axis = _make_concat_multiindex(\n",
      "\u001B[0;32m~/projects/TransPHLA-AOMP/.venv/lib/python3.7/site-packages/pandas/core/reshape/concat.py\u001B[0m in \u001B[0;36m_concat_indexes\u001B[0;34m(indexes)\u001B[0m\n\u001B[1;32m    590\u001B[0m \u001B[0;34m\u001B[0m\u001B[0m\n\u001B[1;32m    591\u001B[0m \u001B[0;32mdef\u001B[0m \u001B[0m_concat_indexes\u001B[0m\u001B[0;34m(\u001B[0m\u001B[0mindexes\u001B[0m\u001B[0;34m)\u001B[0m \u001B[0;34m->\u001B[0m \u001B[0mIndex\u001B[0m\u001B[0;34m:\u001B[0m\u001B[0;34m\u001B[0m\u001B[0;34m\u001B[0m\u001B[0m\n\u001B[0;32m--> 592\u001B[0;31m     \u001B[0;32mreturn\u001B[0m \u001B[0mindexes\u001B[0m\u001B[0;34m[\u001B[0m\u001B[0;36m0\u001B[0m\u001B[0;34m]\u001B[0m\u001B[0;34m.\u001B[0m\u001B[0mappend\u001B[0m\u001B[0;34m(\u001B[0m\u001B[0mindexes\u001B[0m\u001B[0;34m[\u001B[0m\u001B[0;36m1\u001B[0m\u001B[0;34m:\u001B[0m\u001B[0;34m]\u001B[0m\u001B[0;34m)\u001B[0m\u001B[0;34m\u001B[0m\u001B[0;34m\u001B[0m\u001B[0m\n\u001B[0m\u001B[1;32m    593\u001B[0m \u001B[0;34m\u001B[0m\u001B[0m\n\u001B[1;32m    594\u001B[0m \u001B[0;34m\u001B[0m\u001B[0m\n",
      "\u001B[0;32m~/projects/TransPHLA-AOMP/.venv/lib/python3.7/site-packages/pandas/core/indexes/base.py\u001B[0m in \u001B[0;36mappend\u001B[0;34m(self, other)\u001B[0m\n\u001B[1;32m   4160\u001B[0m         \u001B[0mname\u001B[0m \u001B[0;34m=\u001B[0m \u001B[0;32mNone\u001B[0m \u001B[0;32mif\u001B[0m \u001B[0mlen\u001B[0m\u001B[0;34m(\u001B[0m\u001B[0mnames\u001B[0m\u001B[0;34m)\u001B[0m \u001B[0;34m>\u001B[0m \u001B[0;36m1\u001B[0m \u001B[0;32melse\u001B[0m \u001B[0mself\u001B[0m\u001B[0;34m.\u001B[0m\u001B[0mname\u001B[0m\u001B[0;34m\u001B[0m\u001B[0;34m\u001B[0m\u001B[0m\n\u001B[1;32m   4161\u001B[0m \u001B[0;34m\u001B[0m\u001B[0m\n\u001B[0;32m-> 4162\u001B[0;31m         \u001B[0;32mreturn\u001B[0m \u001B[0mself\u001B[0m\u001B[0;34m.\u001B[0m\u001B[0m_concat\u001B[0m\u001B[0;34m(\u001B[0m\u001B[0mto_concat\u001B[0m\u001B[0;34m,\u001B[0m \u001B[0mname\u001B[0m\u001B[0;34m)\u001B[0m\u001B[0;34m\u001B[0m\u001B[0;34m\u001B[0m\u001B[0m\n\u001B[0m\u001B[1;32m   4163\u001B[0m \u001B[0;34m\u001B[0m\u001B[0m\n\u001B[1;32m   4164\u001B[0m     \u001B[0;32mdef\u001B[0m \u001B[0m_concat\u001B[0m\u001B[0;34m(\u001B[0m\u001B[0mself\u001B[0m\u001B[0;34m,\u001B[0m \u001B[0mto_concat\u001B[0m\u001B[0;34m,\u001B[0m \u001B[0mname\u001B[0m\u001B[0;34m)\u001B[0m\u001B[0;34m:\u001B[0m\u001B[0;34m\u001B[0m\u001B[0;34m\u001B[0m\u001B[0m\n",
      "\u001B[0;32m~/projects/TransPHLA-AOMP/.venv/lib/python3.7/site-packages/pandas/core/indexes/category.py\u001B[0m in \u001B[0;36m_concat\u001B[0;34m(self, to_concat, name)\u001B[0m\n\u001B[1;32m    748\u001B[0m     \u001B[0;32mdef\u001B[0m \u001B[0m_concat\u001B[0m\u001B[0;34m(\u001B[0m\u001B[0mself\u001B[0m\u001B[0;34m,\u001B[0m \u001B[0mto_concat\u001B[0m\u001B[0;34m,\u001B[0m \u001B[0mname\u001B[0m\u001B[0;34m)\u001B[0m\u001B[0;34m:\u001B[0m\u001B[0;34m\u001B[0m\u001B[0;34m\u001B[0m\u001B[0m\n\u001B[1;32m    749\u001B[0m         \u001B[0;31m# if calling index is category, don't check dtype of others\u001B[0m\u001B[0;34m\u001B[0m\u001B[0;34m\u001B[0m\u001B[0;34m\u001B[0m\u001B[0m\n\u001B[0;32m--> 750\u001B[0;31m         \u001B[0mcodes\u001B[0m \u001B[0;34m=\u001B[0m \u001B[0mnp\u001B[0m\u001B[0;34m.\u001B[0m\u001B[0mconcatenate\u001B[0m\u001B[0;34m(\u001B[0m\u001B[0;34m[\u001B[0m\u001B[0mself\u001B[0m\u001B[0;34m.\u001B[0m\u001B[0m_is_dtype_compat\u001B[0m\u001B[0;34m(\u001B[0m\u001B[0mc\u001B[0m\u001B[0;34m)\u001B[0m\u001B[0;34m.\u001B[0m\u001B[0mcodes\u001B[0m \u001B[0;32mfor\u001B[0m \u001B[0mc\u001B[0m \u001B[0;32min\u001B[0m \u001B[0mto_concat\u001B[0m\u001B[0;34m]\u001B[0m\u001B[0;34m)\u001B[0m\u001B[0;34m\u001B[0m\u001B[0;34m\u001B[0m\u001B[0m\n\u001B[0m\u001B[1;32m    751\u001B[0m         \u001B[0mresult\u001B[0m \u001B[0;34m=\u001B[0m \u001B[0mself\u001B[0m\u001B[0;34m.\u001B[0m\u001B[0m_create_from_codes\u001B[0m\u001B[0;34m(\u001B[0m\u001B[0mcodes\u001B[0m\u001B[0;34m,\u001B[0m \u001B[0mname\u001B[0m\u001B[0;34m=\u001B[0m\u001B[0mname\u001B[0m\u001B[0;34m)\u001B[0m\u001B[0;34m\u001B[0m\u001B[0;34m\u001B[0m\u001B[0m\n\u001B[1;32m    752\u001B[0m         \u001B[0;31m# if name is None, _create_from_codes sets self.name\u001B[0m\u001B[0;34m\u001B[0m\u001B[0;34m\u001B[0m\u001B[0;34m\u001B[0m\u001B[0m\n",
      "\u001B[0;32m~/projects/TransPHLA-AOMP/.venv/lib/python3.7/site-packages/pandas/core/indexes/category.py\u001B[0m in \u001B[0;36m<listcomp>\u001B[0;34m(.0)\u001B[0m\n\u001B[1;32m    748\u001B[0m     \u001B[0;32mdef\u001B[0m \u001B[0m_concat\u001B[0m\u001B[0;34m(\u001B[0m\u001B[0mself\u001B[0m\u001B[0;34m,\u001B[0m \u001B[0mto_concat\u001B[0m\u001B[0;34m,\u001B[0m \u001B[0mname\u001B[0m\u001B[0;34m)\u001B[0m\u001B[0;34m:\u001B[0m\u001B[0;34m\u001B[0m\u001B[0;34m\u001B[0m\u001B[0m\n\u001B[1;32m    749\u001B[0m         \u001B[0;31m# if calling index is category, don't check dtype of others\u001B[0m\u001B[0;34m\u001B[0m\u001B[0;34m\u001B[0m\u001B[0;34m\u001B[0m\u001B[0m\n\u001B[0;32m--> 750\u001B[0;31m         \u001B[0mcodes\u001B[0m \u001B[0;34m=\u001B[0m \u001B[0mnp\u001B[0m\u001B[0;34m.\u001B[0m\u001B[0mconcatenate\u001B[0m\u001B[0;34m(\u001B[0m\u001B[0;34m[\u001B[0m\u001B[0mself\u001B[0m\u001B[0;34m.\u001B[0m\u001B[0m_is_dtype_compat\u001B[0m\u001B[0;34m(\u001B[0m\u001B[0mc\u001B[0m\u001B[0;34m)\u001B[0m\u001B[0;34m.\u001B[0m\u001B[0mcodes\u001B[0m \u001B[0;32mfor\u001B[0m \u001B[0mc\u001B[0m \u001B[0;32min\u001B[0m \u001B[0mto_concat\u001B[0m\u001B[0;34m]\u001B[0m\u001B[0;34m)\u001B[0m\u001B[0;34m\u001B[0m\u001B[0;34m\u001B[0m\u001B[0m\n\u001B[0m\u001B[1;32m    751\u001B[0m         \u001B[0mresult\u001B[0m \u001B[0;34m=\u001B[0m \u001B[0mself\u001B[0m\u001B[0;34m.\u001B[0m\u001B[0m_create_from_codes\u001B[0m\u001B[0;34m(\u001B[0m\u001B[0mcodes\u001B[0m\u001B[0;34m,\u001B[0m \u001B[0mname\u001B[0m\u001B[0;34m=\u001B[0m\u001B[0mname\u001B[0m\u001B[0;34m)\u001B[0m\u001B[0;34m\u001B[0m\u001B[0;34m\u001B[0m\u001B[0m\n\u001B[1;32m    752\u001B[0m         \u001B[0;31m# if name is None, _create_from_codes sets self.name\u001B[0m\u001B[0;34m\u001B[0m\u001B[0;34m\u001B[0m\u001B[0;34m\u001B[0m\u001B[0m\n",
      "\u001B[0;32m~/projects/TransPHLA-AOMP/.venv/lib/python3.7/site-packages/pandas/core/indexes/category.py\u001B[0m in \u001B[0;36m_is_dtype_compat\u001B[0;34m(self, other)\u001B[0m\n\u001B[1;32m    276\u001B[0m             \u001B[0;32mif\u001B[0m \u001B[0;32mnot\u001B[0m \u001B[0mother\u001B[0m\u001B[0;34m.\u001B[0m\u001B[0mis_dtype_equal\u001B[0m\u001B[0;34m(\u001B[0m\u001B[0mself\u001B[0m\u001B[0;34m)\u001B[0m\u001B[0;34m:\u001B[0m\u001B[0;34m\u001B[0m\u001B[0;34m\u001B[0m\u001B[0m\n\u001B[1;32m    277\u001B[0m                 raise TypeError(\n\u001B[0;32m--> 278\u001B[0;31m                     \u001B[0;34m\"categories must match existing categories when appending\"\u001B[0m\u001B[0;34m\u001B[0m\u001B[0;34m\u001B[0m\u001B[0m\n\u001B[0m\u001B[1;32m    279\u001B[0m                 )\n\u001B[1;32m    280\u001B[0m         \u001B[0;32melse\u001B[0m\u001B[0;34m:\u001B[0m\u001B[0;34m\u001B[0m\u001B[0;34m\u001B[0m\u001B[0m\n",
      "\u001B[0;31mTypeError\u001B[0m: categories must match existing categories when appending"
     ]
    }
   ],
   "source": [
    "pd.concat([df1 , df2], axis=0)"
   ],
   "metadata": {
    "collapsed": false,
    "pycharm": {
     "name": "#%%\n"
    }
   }
  },
  {
   "cell_type": "code",
   "execution_count": 85,
   "outputs": [
    {
     "ename": "TypeError",
     "evalue": "sum() got an unexpected keyword argument 'ignore_index'",
     "output_type": "error",
     "traceback": [
      "\u001B[0;31m---------------------------------------------------------------------------\u001B[0m",
      "\u001B[0;31mTypeError\u001B[0m                                 Traceback (most recent call last)",
      "\u001B[0;32m/tmp/ipykernel_202667/2506002255.py\u001B[0m in \u001B[0;36m<module>\u001B[0;34m\u001B[0m\n\u001B[0;32m----> 1\u001B[0;31m \u001B[0mdf2\u001B[0m\u001B[0;34m.\u001B[0m\u001B[0mloc\u001B[0m\u001B[0;34m[\u001B[0m\u001B[0;34m'sum'\u001B[0m\u001B[0;34m]\u001B[0m \u001B[0;34m=\u001B[0m \u001B[0maatype_position\u001B[0m\u001B[0;34m.\u001B[0m\u001B[0msum\u001B[0m\u001B[0;34m(\u001B[0m\u001B[0maxis\u001B[0m\u001B[0;34m=\u001B[0m\u001B[0;36m0\u001B[0m\u001B[0;34m,\u001B[0m \u001B[0mignore_index\u001B[0m\u001B[0;34m=\u001B[0m\u001B[0;32mTrue\u001B[0m\u001B[0;34m)\u001B[0m\u001B[0;34m\u001B[0m\u001B[0;34m\u001B[0m\u001B[0m\n\u001B[0m",
      "\u001B[0;32m~/projects/TransPHLA-AOMP/.venv/lib/python3.7/site-packages/pandas/core/generic.py\u001B[0m in \u001B[0;36mstat_func\u001B[0;34m(self, axis, skipna, level, numeric_only, min_count, **kwargs)\u001B[0m\n\u001B[1;32m  11413\u001B[0m     ):\n\u001B[1;32m  11414\u001B[0m         \u001B[0;32mif\u001B[0m \u001B[0mname\u001B[0m \u001B[0;34m==\u001B[0m \u001B[0;34m\"sum\"\u001B[0m\u001B[0;34m:\u001B[0m\u001B[0;34m\u001B[0m\u001B[0;34m\u001B[0m\u001B[0m\n\u001B[0;32m> 11415\u001B[0;31m             \u001B[0mnv\u001B[0m\u001B[0;34m.\u001B[0m\u001B[0mvalidate_sum\u001B[0m\u001B[0;34m(\u001B[0m\u001B[0mtuple\u001B[0m\u001B[0;34m(\u001B[0m\u001B[0;34m)\u001B[0m\u001B[0;34m,\u001B[0m \u001B[0mkwargs\u001B[0m\u001B[0;34m)\u001B[0m\u001B[0;34m\u001B[0m\u001B[0;34m\u001B[0m\u001B[0m\n\u001B[0m\u001B[1;32m  11416\u001B[0m         \u001B[0;32melif\u001B[0m \u001B[0mname\u001B[0m \u001B[0;34m==\u001B[0m \u001B[0;34m\"prod\"\u001B[0m\u001B[0;34m:\u001B[0m\u001B[0;34m\u001B[0m\u001B[0;34m\u001B[0m\u001B[0m\n\u001B[1;32m  11417\u001B[0m             \u001B[0mnv\u001B[0m\u001B[0;34m.\u001B[0m\u001B[0mvalidate_prod\u001B[0m\u001B[0;34m(\u001B[0m\u001B[0mtuple\u001B[0m\u001B[0;34m(\u001B[0m\u001B[0;34m)\u001B[0m\u001B[0;34m,\u001B[0m \u001B[0mkwargs\u001B[0m\u001B[0;34m)\u001B[0m\u001B[0;34m\u001B[0m\u001B[0;34m\u001B[0m\u001B[0m\n",
      "\u001B[0;32m~/projects/TransPHLA-AOMP/.venv/lib/python3.7/site-packages/pandas/compat/numpy/function.py\u001B[0m in \u001B[0;36m__call__\u001B[0;34m(self, args, kwargs, fname, max_fname_arg_count, method)\u001B[0m\n\u001B[1;32m     69\u001B[0m             \u001B[0;32melif\u001B[0m \u001B[0mmethod\u001B[0m \u001B[0;34m==\u001B[0m \u001B[0;34m\"both\"\u001B[0m\u001B[0;34m:\u001B[0m\u001B[0;34m\u001B[0m\u001B[0;34m\u001B[0m\u001B[0m\n\u001B[1;32m     70\u001B[0m                 validate_args_and_kwargs(\n\u001B[0;32m---> 71\u001B[0;31m                     \u001B[0mfname\u001B[0m\u001B[0;34m,\u001B[0m \u001B[0margs\u001B[0m\u001B[0;34m,\u001B[0m \u001B[0mkwargs\u001B[0m\u001B[0;34m,\u001B[0m \u001B[0mmax_fname_arg_count\u001B[0m\u001B[0;34m,\u001B[0m \u001B[0mself\u001B[0m\u001B[0;34m.\u001B[0m\u001B[0mdefaults\u001B[0m\u001B[0;34m\u001B[0m\u001B[0;34m\u001B[0m\u001B[0m\n\u001B[0m\u001B[1;32m     72\u001B[0m                 )\n\u001B[1;32m     73\u001B[0m             \u001B[0;32melse\u001B[0m\u001B[0;34m:\u001B[0m\u001B[0;34m\u001B[0m\u001B[0;34m\u001B[0m\u001B[0m\n",
      "\u001B[0;32m~/projects/TransPHLA-AOMP/.venv/lib/python3.7/site-packages/pandas/util/_validators.py\u001B[0m in \u001B[0;36mvalidate_args_and_kwargs\u001B[0;34m(fname, args, kwargs, max_fname_arg_count, compat_args)\u001B[0m\n\u001B[1;32m    203\u001B[0m \u001B[0;34m\u001B[0m\u001B[0m\n\u001B[1;32m    204\u001B[0m     \u001B[0mkwargs\u001B[0m\u001B[0;34m.\u001B[0m\u001B[0mupdate\u001B[0m\u001B[0;34m(\u001B[0m\u001B[0margs_dict\u001B[0m\u001B[0;34m)\u001B[0m\u001B[0;34m\u001B[0m\u001B[0;34m\u001B[0m\u001B[0m\n\u001B[0;32m--> 205\u001B[0;31m     \u001B[0mvalidate_kwargs\u001B[0m\u001B[0;34m(\u001B[0m\u001B[0mfname\u001B[0m\u001B[0;34m,\u001B[0m \u001B[0mkwargs\u001B[0m\u001B[0;34m,\u001B[0m \u001B[0mcompat_args\u001B[0m\u001B[0;34m)\u001B[0m\u001B[0;34m\u001B[0m\u001B[0;34m\u001B[0m\u001B[0m\n\u001B[0m\u001B[1;32m    206\u001B[0m \u001B[0;34m\u001B[0m\u001B[0m\n\u001B[1;32m    207\u001B[0m \u001B[0;34m\u001B[0m\u001B[0m\n",
      "\u001B[0;32m~/projects/TransPHLA-AOMP/.venv/lib/python3.7/site-packages/pandas/util/_validators.py\u001B[0m in \u001B[0;36mvalidate_kwargs\u001B[0;34m(fname, kwargs, compat_args)\u001B[0m\n\u001B[1;32m    146\u001B[0m     \"\"\"\n\u001B[1;32m    147\u001B[0m     \u001B[0mkwds\u001B[0m \u001B[0;34m=\u001B[0m \u001B[0mkwargs\u001B[0m\u001B[0;34m.\u001B[0m\u001B[0mcopy\u001B[0m\u001B[0;34m(\u001B[0m\u001B[0;34m)\u001B[0m\u001B[0;34m\u001B[0m\u001B[0;34m\u001B[0m\u001B[0m\n\u001B[0;32m--> 148\u001B[0;31m     \u001B[0m_check_for_invalid_keys\u001B[0m\u001B[0;34m(\u001B[0m\u001B[0mfname\u001B[0m\u001B[0;34m,\u001B[0m \u001B[0mkwargs\u001B[0m\u001B[0;34m,\u001B[0m \u001B[0mcompat_args\u001B[0m\u001B[0;34m)\u001B[0m\u001B[0;34m\u001B[0m\u001B[0;34m\u001B[0m\u001B[0m\n\u001B[0m\u001B[1;32m    149\u001B[0m     \u001B[0m_check_for_default_values\u001B[0m\u001B[0;34m(\u001B[0m\u001B[0mfname\u001B[0m\u001B[0;34m,\u001B[0m \u001B[0mkwds\u001B[0m\u001B[0;34m,\u001B[0m \u001B[0mcompat_args\u001B[0m\u001B[0;34m)\u001B[0m\u001B[0;34m\u001B[0m\u001B[0;34m\u001B[0m\u001B[0m\n\u001B[1;32m    150\u001B[0m \u001B[0;34m\u001B[0m\u001B[0m\n",
      "\u001B[0;32m~/projects/TransPHLA-AOMP/.venv/lib/python3.7/site-packages/pandas/util/_validators.py\u001B[0m in \u001B[0;36m_check_for_invalid_keys\u001B[0;34m(fname, kwargs, compat_args)\u001B[0m\n\u001B[1;32m    120\u001B[0m     \u001B[0;32mif\u001B[0m \u001B[0mdiff\u001B[0m\u001B[0;34m:\u001B[0m\u001B[0;34m\u001B[0m\u001B[0;34m\u001B[0m\u001B[0m\n\u001B[1;32m    121\u001B[0m         \u001B[0mbad_arg\u001B[0m \u001B[0;34m=\u001B[0m \u001B[0mlist\u001B[0m\u001B[0;34m(\u001B[0m\u001B[0mdiff\u001B[0m\u001B[0;34m)\u001B[0m\u001B[0;34m[\u001B[0m\u001B[0;36m0\u001B[0m\u001B[0;34m]\u001B[0m\u001B[0;34m\u001B[0m\u001B[0;34m\u001B[0m\u001B[0m\n\u001B[0;32m--> 122\u001B[0;31m         \u001B[0;32mraise\u001B[0m \u001B[0mTypeError\u001B[0m\u001B[0;34m(\u001B[0m\u001B[0;34mf\"{fname}() got an unexpected keyword argument '{bad_arg}'\"\u001B[0m\u001B[0;34m)\u001B[0m\u001B[0;34m\u001B[0m\u001B[0;34m\u001B[0m\u001B[0m\n\u001B[0m\u001B[1;32m    123\u001B[0m \u001B[0;34m\u001B[0m\u001B[0m\n\u001B[1;32m    124\u001B[0m \u001B[0;34m\u001B[0m\u001B[0m\n",
      "\u001B[0;31mTypeError\u001B[0m: sum() got an unexpected keyword argument 'ignore_index'"
     ]
    }
   ],
   "source": [
    "df2.loc['sum'] = aatype_position.sum(axis=0)"
   ],
   "metadata": {
    "collapsed": false,
    "pycharm": {
     "name": "#%%\n"
    }
   }
  },
  {
   "cell_type": "code",
   "execution_count": null,
   "outputs": [],
   "source": [],
   "metadata": {
    "collapsed": false,
    "pycharm": {
     "name": "#%%\n"
    }
   }
  },
  {
   "cell_type": "code",
   "execution_count": 91,
   "outputs": [
    {
     "ename": "TypeError",
     "evalue": "append() missing 1 required positional argument: 'other'",
     "output_type": "error",
     "traceback": [
      "\u001B[0;31m---------------------------------------------------------------------------\u001B[0m",
      "\u001B[0;31mTypeError\u001B[0m                                 Traceback (most recent call last)",
      "\u001B[0;32m/tmp/ipykernel_202667/4260471520.py\u001B[0m in \u001B[0;36m<module>\u001B[0;34m\u001B[0m\n\u001B[0;32m----> 1\u001B[0;31m \u001B[0maatype_position\u001B[0m\u001B[0;34m.\u001B[0m\u001B[0mappend\u001B[0m\u001B[0;34m(\u001B[0m\u001B[0mignore_index\u001B[0m\u001B[0;34m=\u001B[0m\u001B[0;32mTrue\u001B[0m\u001B[0;34m)\u001B[0m\u001B[0;34m\u001B[0m\u001B[0;34m\u001B[0m\u001B[0m\n\u001B[0m",
      "\u001B[0;31mTypeError\u001B[0m: append() missing 1 required positional argument: 'other'"
     ]
    }
   ],
   "source": [
    "aatype_position.append(ignore_index=True)"
   ],
   "metadata": {
    "collapsed": false,
    "pycharm": {
     "name": "#%%\n"
    }
   }
  },
  {
   "cell_type": "code",
   "execution_count": null,
   "outputs": [],
   "source": [],
   "metadata": {
    "collapsed": false,
    "pycharm": {
     "name": "#%%\n"
    }
   }
  }
 ],
 "metadata": {
  "kernelspec": {
   "display_name": "Python 3",
   "language": "python",
   "name": "python3"
  },
  "language_info": {
   "codemirror_mode": {
    "name": "ipython",
    "version": 2
   },
   "file_extension": ".py",
   "mimetype": "text/x-python",
   "name": "python",
   "nbconvert_exporter": "python",
   "pygments_lexer": "ipython2",
   "version": "2.7.6"
  }
 },
 "nbformat": 4,
 "nbformat_minor": 0
}