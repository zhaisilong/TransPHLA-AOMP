{
 "cells": [
  {
   "cell_type": "code",
   "execution_count": 1,
   "metadata": {
    "collapsed": true
   },
   "outputs": [],
   "source": [
    "from model import *\n",
    "import sys\n",
    "\n",
    "from attention import pHLA_attns_draw_save\n",
    "from mutation import *\n",
    "from utils import Logger, cut_peptide_to_specific_length"
   ]
  },
  {
   "cell_type": "code",
   "execution_count": 2,
   "metadata": {
    "collapsed": true
   },
   "outputs": [],
   "source": [
    "import math\n",
    "from sklearn import metrics\n",
    "from sklearn import preprocessing\n",
    "import numpy as np\n",
    "import pandas as pd\n",
    "import re\n",
    "import time\n",
    "import datetime\n",
    "import random\n",
    "random.seed(1234)\n",
    "from scipy import interp\n",
    "import warnings\n",
    "# warnings.filterwarnings(\"ignore\")\n",
    "from tqdm import tqdm\n",
    "from pandas import Series, DataFrame\n",
    "from typing import List\n",
    "from torch import Tensor\n",
    "from collections import Counter\n",
    "from collections import OrderedDict\n",
    "from functools import reduce\n",
    "from tqdm import tqdm, trange\n",
    "from copy import deepcopy\n",
    "\n",
    "import torch\n",
    "import torch.nn as nn\n",
    "import torch.optim as optim\n",
    "import torch.utils.data as Data\n",
    "\n",
    "import matplotlib.pyplot as plt\n",
    "import matplotlib as mpl\n",
    "import seaborn as sns\n",
    "\n",
    "import difflib\n",
    "\n",
    "seed = 19961231\n",
    "random.seed(seed)\n",
    "np.random.seed(seed)\n",
    "torch.manual_seed(seed)\n",
    "torch.cuda.manual_seed(seed)\n",
    "torch.cuda.manual_seed_all(seed)\n",
    "torch.backends.cudnn.benchmark = False\n",
    "torch.backends.cudnn.deterministic = True\n",
    "\n",
    "import os\n",
    "import argparse\n",
    "import logging\n",
    "import sys"
   ]
  },
  {
   "cell_type": "code",
   "execution_count": 3,
   "metadata": {},
   "outputs": [
    {
     "data": {
      "text/plain": "Namespace(HLA_file=None, cut_length=9, cut_peptide=False, output_attention=False, output_dir=None, output_heatmap=False, output_mutation=True, peptide_file=None, threshold=0.5)"
     },
     "execution_count": 3,
     "metadata": {},
     "output_type": "execute_result"
    }
   ],
   "source": [
    "parser = argparse.ArgumentParser(usage = 'peptide-HLA-I binding prediction')\n",
    "parser.add_argument('--peptide_file', type = str, help = 'the path of the .fasta file contains peptides')\n",
    "parser.add_argument('--HLA_file', type = str, help = 'the path of the .fasta file contains sequence')\n",
    "parser.add_argument('--threshold', type = float, default = 0.5, help = 'the threshold to define predicted binder, float from 0 - 1, the recommended value is 0.5')\n",
    "parser.add_argument('--cut_peptide', type = bool, default = False, help = 'Whether to split peptides larger than cut_length?')\n",
    "parser.add_argument('--cut_length', type = int, default = 9, help = 'if there is a peptide sequence length > 15, we will segment the peptide according the length you choose, from 8 - 15')\n",
    "parser.add_argument('--output_attention', type = bool, default = False, help = 'Output the mutual influence of peptide and HLA on the binding?')\n",
    "parser.add_argument('--output_heatmap', type = bool, default = False, help = 'Visualize the mutual influence of peptide and HLA on the binding?')\n",
    "parser.add_argument('--output_mutation', type = bool, default = True, help = 'Whether to perform mutations with better affinity for each sample?')\n",
    "parser.add_argument('--output_dir', type = str, help = 'The directory where the output results are stored.')\n",
    "\n",
    "args = parser.parse_args(args = [])\n",
    "args"
   ]
  },
  {
   "cell_type": "code",
   "execution_count": 4,
   "metadata": {
    "collapsed": true
   },
   "outputs": [],
   "source": [
    "args.peptide_file = 'peptides.fasta'\n",
    "args.HLA_file = 'hlas.fasta'\n",
    "args.output_dir = './results/'\n",
    "os.makedirs(args.output_dir, exist_ok=True)\n",
    "\n",
    "cut_length = args.cut_length"
   ]
  },
  {
   "cell_type": "code",
   "execution_count": 5,
   "metadata": {
    "collapsed": true
   },
   "outputs": [],
   "source": [
    "if args.threshold <= 0 or args.threshold >= 1: \n",
    "    log = Logger('./error.log')\n",
    "    log.logger.critical('The threshold invalid, please check whether it ranges from 0-1.')\n",
    "    sys.exit(1)\n",
    "if not args.peptide_file:\n",
    "    log = Logger('./error.log')\n",
    "    log.logger.critical('The peptide file is empty.')\n",
    "    sys.exit(1)\n",
    "if not args.HLA_file:\n",
    "    log = Logger('./error.log')\n",
    "    log.logger.critical('The HLA file is empty.')\n",
    "    sys.exit(1)\n",
    "if not args.output_dir:\n",
    "    log = Logger('./error.log')\n",
    "    log.logger.critical('Please fill the output file directory.')\n",
    "    sys.exit(1)"
   ]
  },
  {
   "cell_type": "markdown",
   "metadata": {},
   "source": [
    "# 读取文件"
   ]
  },
  {
   "cell_type": "code",
   "execution_count": 6,
   "metadata": {
    "scrolled": true
   },
   "outputs": [
    {
     "name": "stdout",
     "output_type": "stream",
     "text": [
      "# Samples =  17\n"
     ]
    },
    {
     "data": {
      "text/plain": "            HLA                        HLA_sequence      peptide\n0   HLA-A*11:01  YYAMYQENVAQTDVDTLYIIYRDYTWAAQAYRWY     AEAFIQSA\n1   HLA-A*11:01  YYAMYQENVAQTDVDTLYIIYRDYTWAAQAYRWY       AEAFIQ\n2   HLA-A*11:01  YYAMYQENVAQTDVDTLYIIYRDYTWAAQAYRWY     AEAFIQPI\n3   HLA-A*68:01  YYAMYRNNVAQTDVDTLYIMYRDYTWAVWAYTWY    KVYEGVWKK\n4   HLA-A*68:01  YYAMYRNNVAQTDVDTLYIMYRDYTWAVWAYTWY    VYEGVWKKA\n5   HLA-A*68:01  YYAMYRNNVAQTDVDTLYIMYRDYTWAVWAYTWY    YEGVWKKAE\n6   HLA-A*68:01  YYAMYRNNVAQTDVDTLYIMYRDYTWAVWAYTWY    EGVWKKAEA\n7   HLA-A*68:01  YYAMYRNNVAQTDVDTLYIMYRDYTWAVWAYTWY    GVWKKAEAF\n8   HLA-A*68:01  YYAMYRNNVAQTDVDTLYIMYRDYTWAVWAYTWY    VWKKAEAFI\n9   HLA-A*68:01  YYAMYRNNVAQTDVDTLYIMYRDYTWAVWAYTWY    WKKAEAFIQ\n10  HLA-A*68:01  YYAMYRNNVAQTDVDTLYIMYRDYTWAVWAYTWY    KKAEAFIQP\n11  HLA-A*68:01  YYAMYRNNVAQTDVDTLYIMYRDYTWAVWAYTWY    KAEAFIQPI\n12  HLA-A*11:01  YYAMYQENVAQTDVDTLYIIYRDYTWAAQAYRWY    EAFIQPITR\n13  HLA-A*11:01  YYAMYQENVAQTDVDTLYIIYRDYTWAAQAYRWY    KVYEGVWKK\n14  HLA-A*68:01  YYAMYRNNVAQTDVDTLYIMYRDYTWAVWAYTWY  SELFRSGLDSY\n15  HLA-A*68:01  YYAMYRNNVAQTDVDTLYIMYRDYTWAVWAYTWY    FRSGLDSYV\n16  HLA-A*68:01  YYAMYRNNVAQTDVDTLYIMYRDYTWAVWAYTWY   PSDTRQMLFY",
      "text/html": "<div>\n<style scoped>\n    .dataframe tbody tr th:only-of-type {\n        vertical-align: middle;\n    }\n\n    .dataframe tbody tr th {\n        vertical-align: top;\n    }\n\n    .dataframe thead th {\n        text-align: right;\n    }\n</style>\n<table border=\"1\" class=\"dataframe\">\n  <thead>\n    <tr style=\"text-align: right;\">\n      <th></th>\n      <th>HLA</th>\n      <th>HLA_sequence</th>\n      <th>peptide</th>\n    </tr>\n  </thead>\n  <tbody>\n    <tr>\n      <th>0</th>\n      <td>HLA-A*11:01</td>\n      <td>YYAMYQENVAQTDVDTLYIIYRDYTWAAQAYRWY</td>\n      <td>AEAFIQSA</td>\n    </tr>\n    <tr>\n      <th>1</th>\n      <td>HLA-A*11:01</td>\n      <td>YYAMYQENVAQTDVDTLYIIYRDYTWAAQAYRWY</td>\n      <td>AEAFIQ</td>\n    </tr>\n    <tr>\n      <th>2</th>\n      <td>HLA-A*11:01</td>\n      <td>YYAMYQENVAQTDVDTLYIIYRDYTWAAQAYRWY</td>\n      <td>AEAFIQPI</td>\n    </tr>\n    <tr>\n      <th>3</th>\n      <td>HLA-A*68:01</td>\n      <td>YYAMYRNNVAQTDVDTLYIMYRDYTWAVWAYTWY</td>\n      <td>KVYEGVWKK</td>\n    </tr>\n    <tr>\n      <th>4</th>\n      <td>HLA-A*68:01</td>\n      <td>YYAMYRNNVAQTDVDTLYIMYRDYTWAVWAYTWY</td>\n      <td>VYEGVWKKA</td>\n    </tr>\n    <tr>\n      <th>5</th>\n      <td>HLA-A*68:01</td>\n      <td>YYAMYRNNVAQTDVDTLYIMYRDYTWAVWAYTWY</td>\n      <td>YEGVWKKAE</td>\n    </tr>\n    <tr>\n      <th>6</th>\n      <td>HLA-A*68:01</td>\n      <td>YYAMYRNNVAQTDVDTLYIMYRDYTWAVWAYTWY</td>\n      <td>EGVWKKAEA</td>\n    </tr>\n    <tr>\n      <th>7</th>\n      <td>HLA-A*68:01</td>\n      <td>YYAMYRNNVAQTDVDTLYIMYRDYTWAVWAYTWY</td>\n      <td>GVWKKAEAF</td>\n    </tr>\n    <tr>\n      <th>8</th>\n      <td>HLA-A*68:01</td>\n      <td>YYAMYRNNVAQTDVDTLYIMYRDYTWAVWAYTWY</td>\n      <td>VWKKAEAFI</td>\n    </tr>\n    <tr>\n      <th>9</th>\n      <td>HLA-A*68:01</td>\n      <td>YYAMYRNNVAQTDVDTLYIMYRDYTWAVWAYTWY</td>\n      <td>WKKAEAFIQ</td>\n    </tr>\n    <tr>\n      <th>10</th>\n      <td>HLA-A*68:01</td>\n      <td>YYAMYRNNVAQTDVDTLYIMYRDYTWAVWAYTWY</td>\n      <td>KKAEAFIQP</td>\n    </tr>\n    <tr>\n      <th>11</th>\n      <td>HLA-A*68:01</td>\n      <td>YYAMYRNNVAQTDVDTLYIMYRDYTWAVWAYTWY</td>\n      <td>KAEAFIQPI</td>\n    </tr>\n    <tr>\n      <th>12</th>\n      <td>HLA-A*11:01</td>\n      <td>YYAMYQENVAQTDVDTLYIIYRDYTWAAQAYRWY</td>\n      <td>EAFIQPITR</td>\n    </tr>\n    <tr>\n      <th>13</th>\n      <td>HLA-A*11:01</td>\n      <td>YYAMYQENVAQTDVDTLYIIYRDYTWAAQAYRWY</td>\n      <td>KVYEGVWKK</td>\n    </tr>\n    <tr>\n      <th>14</th>\n      <td>HLA-A*68:01</td>\n      <td>YYAMYRNNVAQTDVDTLYIMYRDYTWAVWAYTWY</td>\n      <td>SELFRSGLDSY</td>\n    </tr>\n    <tr>\n      <th>15</th>\n      <td>HLA-A*68:01</td>\n      <td>YYAMYRNNVAQTDVDTLYIMYRDYTWAVWAYTWY</td>\n      <td>FRSGLDSYV</td>\n    </tr>\n    <tr>\n      <th>16</th>\n      <td>HLA-A*68:01</td>\n      <td>YYAMYRNNVAQTDVDTLYIMYRDYTWAVWAYTWY</td>\n      <td>PSDTRQMLFY</td>\n    </tr>\n  </tbody>\n</table>\n</div>"
     },
     "execution_count": 6,
     "metadata": {},
     "output_type": "execute_result"
    }
   ],
   "source": [
    "\n",
    "with open(args.peptide_file, 'r') as f:\n",
    "    peptide_file = f.readlines()\n",
    "\n",
    "with open(args.HLA_file, 'r') as f:\n",
    "    HLA_file = f.readlines()\n",
    "    \n",
    "i = 0\n",
    "ori_peptides, ori_HLA_names, ori_HLA_sequences = [], [], []\n",
    "for pep, hla in zip(peptide_file, HLA_file):\n",
    "    if i % 2 == 0:\n",
    "        hla_name = hla.replace('>', '').replace('\\t', '').replace('\\n', '')\n",
    "        ori_HLA_names.append(hla_name)\n",
    "    if i % 2 == 1:\n",
    "        hla_seq = str.upper(hla.replace('\\n', '').replace('\\t', ''))\n",
    "        peptide = str.upper(pep.replace('\\n', '').replace('\\t', ''))\n",
    "        ori_peptides.append(peptide)\n",
    "        ori_HLA_sequences.append(hla_seq)\n",
    "    i += 1\n",
    "\n",
    "peptides, HLA_names, HLA_sequences = [], [], []\n",
    "for pep, hla_name, hla_seq in zip(ori_peptides, ori_HLA_names, ori_HLA_sequences):\n",
    "    \n",
    "    if not (pep.isalpha() and hla.isalpha()): \n",
    "        continue\n",
    "    if len(set(pep).difference(set('ARNDCQEGHILKMFPSTWYV'))) != 0:\n",
    "        continue\n",
    "    if len(set(hla_seq).difference(set('ARNDCQEGHILKMFPSTWYV'))) != 0:\n",
    "        continue\n",
    "            \n",
    "    length = len(pep)\n",
    "    if length < 15:\n",
    "        if args.cut_peptide:\n",
    "            if length > cut_length:\n",
    "                cut_peptides = [pep] + [pep[i : i + cut_length] for i in range(length - cut_length + 1)]\n",
    "                peptides.extend(cut_peptides)\n",
    "                HLA_sequences.extend([hla_seq] * len(cut_peptides))\n",
    "                HLA_names.extend([hla_name] * len(cut_peptides))\n",
    "            else:\n",
    "                peptides.append(pep)\n",
    "                HLA_sequences.append(hla_seq)\n",
    "                HLA_names.append(hla_name)\n",
    "        else:\n",
    "            peptides.append(pep)\n",
    "            HLA_sequences.append(hla_seq)\n",
    "            HLA_names.append(hla_name)\n",
    "            \n",
    "    else:\n",
    "        cut_peptides = [pep[i : i + cut_length] for i in range(length - cut_length + 1)]\n",
    "        peptides.extend(cut_peptides)\n",
    "        HLA_sequences.extend([hla_seq] * len(cut_peptides))\n",
    "        HLA_names.extend([hla_name] * len(cut_peptides))\n",
    "        \n",
    "predict_data = pd.DataFrame([HLA_names, HLA_sequences, peptides], index = ['HLA', 'HLA_sequence', 'peptide']).T\n",
    "if predict_data.shape[0] == 0: \n",
    "    log = Logger('./error.log')\n",
    "    log.logger.critical('No suitable data could be predicted. Please check your input data.')\n",
    "    sys.exit(1)\n",
    "    \n",
    "if predict_data.shape[0] > 1000:\n",
    "    args.output_heatmap = False\n",
    "    args.output_mutation = False\n",
    "    \n",
    "    log = Logger('./error.log')\n",
    "    log.logger.critical('Do not generate heatmap and mutation. Because the number of predict data > 50, and the output will be large.')\n",
    "    sys.exit(1)\n",
    "    \n",
    "predict_data, predict_pep_inputs, predict_hla_inputs, predict_loader = read_predict_data(predict_data, batch_size)\n",
    "predict_data"
   ]
  },
  {
   "cell_type": "markdown",
   "metadata": {},
   "source": [
    "# 预测"
   ]
  },
  {
   "cell_type": "code",
   "execution_count": 7,
   "metadata": {},
   "outputs": [
    {
     "data": {
      "text/plain": "            HLA                        HLA_sequence      peptide  y_pred  \\\n0   HLA-A*11:01  YYAMYQENVAQTDVDTLYIIYRDYTWAAQAYRWY     AEAFIQSA       0   \n1   HLA-A*11:01  YYAMYQENVAQTDVDTLYIIYRDYTWAAQAYRWY       AEAFIQ       0   \n2   HLA-A*11:01  YYAMYQENVAQTDVDTLYIIYRDYTWAAQAYRWY     AEAFIQPI       1   \n3   HLA-A*68:01  YYAMYRNNVAQTDVDTLYIMYRDYTWAVWAYTWY    KVYEGVWKK       1   \n4   HLA-A*68:01  YYAMYRNNVAQTDVDTLYIMYRDYTWAVWAYTWY    VYEGVWKKA       0   \n5   HLA-A*68:01  YYAMYRNNVAQTDVDTLYIMYRDYTWAVWAYTWY    YEGVWKKAE       0   \n6   HLA-A*68:01  YYAMYRNNVAQTDVDTLYIMYRDYTWAVWAYTWY    EGVWKKAEA       0   \n7   HLA-A*68:01  YYAMYRNNVAQTDVDTLYIMYRDYTWAVWAYTWY    GVWKKAEAF       0   \n8   HLA-A*68:01  YYAMYRNNVAQTDVDTLYIMYRDYTWAVWAYTWY    VWKKAEAFI       0   \n9   HLA-A*68:01  YYAMYRNNVAQTDVDTLYIMYRDYTWAVWAYTWY    WKKAEAFIQ       0   \n10  HLA-A*68:01  YYAMYRNNVAQTDVDTLYIMYRDYTWAVWAYTWY    KKAEAFIQP       0   \n11  HLA-A*68:01  YYAMYRNNVAQTDVDTLYIMYRDYTWAVWAYTWY    KAEAFIQPI       0   \n12  HLA-A*11:01  YYAMYQENVAQTDVDTLYIIYRDYTWAAQAYRWY    EAFIQPITR       1   \n13  HLA-A*11:01  YYAMYQENVAQTDVDTLYIIYRDYTWAAQAYRWY    KVYEGVWKK       1   \n14  HLA-A*68:01  YYAMYRNNVAQTDVDTLYIMYRDYTWAVWAYTWY  SELFRSGLDSY       0   \n15  HLA-A*68:01  YYAMYRNNVAQTDVDTLYIMYRDYTWAVWAYTWY    FRSGLDSYV       0   \n16  HLA-A*68:01  YYAMYRNNVAQTDVDTLYIMYRDYTWAVWAYTWY   PSDTRQMLFY       0   \n\n    y_prob  \n0   0.0001  \n1   0.0008  \n2   0.5539  \n3   1.0000  \n4   0.0000  \n5   0.0000  \n6   0.0000  \n7   0.0000  \n8   0.0000  \n9   0.0000  \n10  0.0000  \n11  0.0000  \n12  0.9998  \n13  1.0000  \n14  0.0018  \n15  0.0000  \n16  0.0017  ",
      "text/html": "<div>\n<style scoped>\n    .dataframe tbody tr th:only-of-type {\n        vertical-align: middle;\n    }\n\n    .dataframe tbody tr th {\n        vertical-align: top;\n    }\n\n    .dataframe thead th {\n        text-align: right;\n    }\n</style>\n<table border=\"1\" class=\"dataframe\">\n  <thead>\n    <tr style=\"text-align: right;\">\n      <th></th>\n      <th>HLA</th>\n      <th>HLA_sequence</th>\n      <th>peptide</th>\n      <th>y_pred</th>\n      <th>y_prob</th>\n    </tr>\n  </thead>\n  <tbody>\n    <tr>\n      <th>0</th>\n      <td>HLA-A*11:01</td>\n      <td>YYAMYQENVAQTDVDTLYIIYRDYTWAAQAYRWY</td>\n      <td>AEAFIQSA</td>\n      <td>0</td>\n      <td>0.0001</td>\n    </tr>\n    <tr>\n      <th>1</th>\n      <td>HLA-A*11:01</td>\n      <td>YYAMYQENVAQTDVDTLYIIYRDYTWAAQAYRWY</td>\n      <td>AEAFIQ</td>\n      <td>0</td>\n      <td>0.0008</td>\n    </tr>\n    <tr>\n      <th>2</th>\n      <td>HLA-A*11:01</td>\n      <td>YYAMYQENVAQTDVDTLYIIYRDYTWAAQAYRWY</td>\n      <td>AEAFIQPI</td>\n      <td>1</td>\n      <td>0.5539</td>\n    </tr>\n    <tr>\n      <th>3</th>\n      <td>HLA-A*68:01</td>\n      <td>YYAMYRNNVAQTDVDTLYIMYRDYTWAVWAYTWY</td>\n      <td>KVYEGVWKK</td>\n      <td>1</td>\n      <td>1.0000</td>\n    </tr>\n    <tr>\n      <th>4</th>\n      <td>HLA-A*68:01</td>\n      <td>YYAMYRNNVAQTDVDTLYIMYRDYTWAVWAYTWY</td>\n      <td>VYEGVWKKA</td>\n      <td>0</td>\n      <td>0.0000</td>\n    </tr>\n    <tr>\n      <th>5</th>\n      <td>HLA-A*68:01</td>\n      <td>YYAMYRNNVAQTDVDTLYIMYRDYTWAVWAYTWY</td>\n      <td>YEGVWKKAE</td>\n      <td>0</td>\n      <td>0.0000</td>\n    </tr>\n    <tr>\n      <th>6</th>\n      <td>HLA-A*68:01</td>\n      <td>YYAMYRNNVAQTDVDTLYIMYRDYTWAVWAYTWY</td>\n      <td>EGVWKKAEA</td>\n      <td>0</td>\n      <td>0.0000</td>\n    </tr>\n    <tr>\n      <th>7</th>\n      <td>HLA-A*68:01</td>\n      <td>YYAMYRNNVAQTDVDTLYIMYRDYTWAVWAYTWY</td>\n      <td>GVWKKAEAF</td>\n      <td>0</td>\n      <td>0.0000</td>\n    </tr>\n    <tr>\n      <th>8</th>\n      <td>HLA-A*68:01</td>\n      <td>YYAMYRNNVAQTDVDTLYIMYRDYTWAVWAYTWY</td>\n      <td>VWKKAEAFI</td>\n      <td>0</td>\n      <td>0.0000</td>\n    </tr>\n    <tr>\n      <th>9</th>\n      <td>HLA-A*68:01</td>\n      <td>YYAMYRNNVAQTDVDTLYIMYRDYTWAVWAYTWY</td>\n      <td>WKKAEAFIQ</td>\n      <td>0</td>\n      <td>0.0000</td>\n    </tr>\n    <tr>\n      <th>10</th>\n      <td>HLA-A*68:01</td>\n      <td>YYAMYRNNVAQTDVDTLYIMYRDYTWAVWAYTWY</td>\n      <td>KKAEAFIQP</td>\n      <td>0</td>\n      <td>0.0000</td>\n    </tr>\n    <tr>\n      <th>11</th>\n      <td>HLA-A*68:01</td>\n      <td>YYAMYRNNVAQTDVDTLYIMYRDYTWAVWAYTWY</td>\n      <td>KAEAFIQPI</td>\n      <td>0</td>\n      <td>0.0000</td>\n    </tr>\n    <tr>\n      <th>12</th>\n      <td>HLA-A*11:01</td>\n      <td>YYAMYQENVAQTDVDTLYIIYRDYTWAAQAYRWY</td>\n      <td>EAFIQPITR</td>\n      <td>1</td>\n      <td>0.9998</td>\n    </tr>\n    <tr>\n      <th>13</th>\n      <td>HLA-A*11:01</td>\n      <td>YYAMYQENVAQTDVDTLYIIYRDYTWAAQAYRWY</td>\n      <td>KVYEGVWKK</td>\n      <td>1</td>\n      <td>1.0000</td>\n    </tr>\n    <tr>\n      <th>14</th>\n      <td>HLA-A*68:01</td>\n      <td>YYAMYRNNVAQTDVDTLYIMYRDYTWAVWAYTWY</td>\n      <td>SELFRSGLDSY</td>\n      <td>0</td>\n      <td>0.0018</td>\n    </tr>\n    <tr>\n      <th>15</th>\n      <td>HLA-A*68:01</td>\n      <td>YYAMYRNNVAQTDVDTLYIMYRDYTWAVWAYTWY</td>\n      <td>FRSGLDSYV</td>\n      <td>0</td>\n      <td>0.0000</td>\n    </tr>\n    <tr>\n      <th>16</th>\n      <td>HLA-A*68:01</td>\n      <td>YYAMYRNNVAQTDVDTLYIMYRDYTWAVWAYTWY</td>\n      <td>PSDTRQMLFY</td>\n      <td>0</td>\n      <td>0.0017</td>\n    </tr>\n  </tbody>\n</table>\n</div>"
     },
     "execution_count": 7,
     "metadata": {},
     "output_type": "execute_result"
    }
   ],
   "source": [
    "use_cuda = False\n",
    "device = torch.device(\"cuda\" if use_cuda else \"cpu\")\n",
    "\n",
    "model_file = '../model/model_layer1_multihead9_fold4.pkl'\n",
    "\n",
    "model_eval = Transformer().to(device)\n",
    "model_eval.load_state_dict(torch.load(model_file), strict = True)\n",
    "\n",
    "model_eval.eval()\n",
    "y_pred, y_prob, attns = eval_step(model_eval, predict_loader, args.threshold, use_cuda)\n",
    "\n",
    "predict_data['y_pred'], predict_data['y_prob'] = y_pred, y_prob\n",
    "predict_data = predict_data.round({'y_prob': 4})\n",
    "\n",
    "predict_data.to_csv(args.output_dir + '/predict_results.csv', index = False)\n",
    "predict_data"
   ]
  },
  {
   "cell_type": "markdown",
   "metadata": {},
   "source": [
    "# 作图"
   ]
  },
  {
   "cell_type": "code",
   "execution_count": 8,
   "metadata": {
    "scrolled": true
   },
   "outputs": [],
   "source": [
    "if args.output_attention or args.output_heatmap:\n",
    "    \n",
    "    if args.output_attention: \n",
    "        attn_savepath = args.output_dir + '/attention/'\n",
    "        if not os.path.exists(attn_savepath):\n",
    "            os.makedirs(attn_savepath)\n",
    "    else:\n",
    "        attn_savepath = False\n",
    "    if args.output_heatmap: \n",
    "        fig_savepath = args.output_dir + '/figures/'\n",
    "        if not os.path.exists(fig_savepath):\n",
    "            os.makedirs(fig_savepath)\n",
    "    else:\n",
    "        fig_savepath = False\n",
    "        \n",
    "    for hla, pep in zip(predict_data.HLA, predict_data.peptide):\n",
    "        pHLA_attns_draw_save(predict_data, attns, hla, pep, attn_savepath, fig_savepath)"
   ]
  },
  {
   "cell_type": "markdown",
   "metadata": {},
   "source": [
    "# 突变"
   ]
  },
  {
   "cell_type": "code",
   "execution_count": 9,
   "metadata": {
    "scrolled": true
   },
   "outputs": [
    {
     "name": "stderr",
     "output_type": "stream",
     "text": [
      "  0%|          | 0/17 [00:00<?, ?it/s]"
     ]
    },
    {
     "name": "stdout",
     "output_type": "stream",
     "text": [
      "No HLA-A*11:01 with 8, Use the overall attention for pepAAtype-peppsition\n"
     ]
    },
    {
     "name": "stderr",
     "output_type": "stream",
     "text": [
      "\n"
     ]
    },
    {
     "ename": "KeyError",
     "evalue": "'sum'",
     "output_type": "error",
     "traceback": [
      "\u001B[0;31m---------------------------------------------------------------------------\u001B[0m",
      "\u001B[0;31mKeyError\u001B[0m                                  Traceback (most recent call last)",
      "\u001B[0;32m~/projects/TransPHLA-AOMP/.venv/lib/python3.7/site-packages/pandas/core/indexes/base.py\u001B[0m in \u001B[0;36mget_loc\u001B[0;34m(self, key, method, tolerance)\u001B[0m\n\u001B[1;32m   2897\u001B[0m             \u001B[0;32mtry\u001B[0m\u001B[0;34m:\u001B[0m\u001B[0;34m\u001B[0m\u001B[0;34m\u001B[0m\u001B[0m\n\u001B[0;32m-> 2898\u001B[0;31m                 \u001B[0;32mreturn\u001B[0m \u001B[0mself\u001B[0m\u001B[0;34m.\u001B[0m\u001B[0m_engine\u001B[0m\u001B[0;34m.\u001B[0m\u001B[0mget_loc\u001B[0m\u001B[0;34m(\u001B[0m\u001B[0mcasted_key\u001B[0m\u001B[0;34m)\u001B[0m\u001B[0;34m\u001B[0m\u001B[0;34m\u001B[0m\u001B[0m\n\u001B[0m\u001B[1;32m   2899\u001B[0m             \u001B[0;32mexcept\u001B[0m \u001B[0mKeyError\u001B[0m \u001B[0;32mas\u001B[0m \u001B[0merr\u001B[0m\u001B[0;34m:\u001B[0m\u001B[0;34m\u001B[0m\u001B[0;34m\u001B[0m\u001B[0m\n",
      "\u001B[0;32mpandas/_libs/index.pyx\u001B[0m in \u001B[0;36mpandas._libs.index.IndexEngine.get_loc\u001B[0;34m()\u001B[0m\n",
      "\u001B[0;32mpandas/_libs/index.pyx\u001B[0m in \u001B[0;36mpandas._libs.index.IndexEngine.get_loc\u001B[0;34m()\u001B[0m\n",
      "\u001B[0;32mpandas/_libs/hashtable_class_helper.pxi\u001B[0m in \u001B[0;36mpandas._libs.hashtable.PyObjectHashTable.get_item\u001B[0;34m()\u001B[0m\n",
      "\u001B[0;32mpandas/_libs/hashtable_class_helper.pxi\u001B[0m in \u001B[0;36mpandas._libs.hashtable.PyObjectHashTable.get_item\u001B[0;34m()\u001B[0m\n",
      "\u001B[0;31mKeyError\u001B[0m: 'sum'",
      "\nThe above exception was the direct cause of the following exception:\n",
      "\u001B[0;31mKeyError\u001B[0m                                  Traceback (most recent call last)",
      "\u001B[0;32m/tmp/ipykernel_202833/3011579502.py\u001B[0m in \u001B[0;36m<module>\u001B[0;34m\u001B[0m\n\u001B[1;32m     11\u001B[0m         \u001B[0;32mif\u001B[0m \u001B[0mlen\u001B[0m\u001B[0;34m(\u001B[0m\u001B[0mpeptide\u001B[0m\u001B[0;34m)\u001B[0m \u001B[0;34m<\u001B[0m \u001B[0;36m8\u001B[0m \u001B[0;32mor\u001B[0m \u001B[0mlen\u001B[0m\u001B[0;34m(\u001B[0m\u001B[0mpeptide\u001B[0m\u001B[0;34m)\u001B[0m \u001B[0;34m>\u001B[0m \u001B[0;36m14\u001B[0m\u001B[0;34m:\u001B[0m \u001B[0;32mcontinue\u001B[0m\u001B[0;34m\u001B[0m\u001B[0;34m\u001B[0m\u001B[0m\n\u001B[1;32m     12\u001B[0m \u001B[0;34m\u001B[0m\u001B[0m\n\u001B[0;32m---> 13\u001B[0;31m         \u001B[0mmut_peptides_df\u001B[0m \u001B[0;34m=\u001B[0m \u001B[0mpHLA_mutation_peptides\u001B[0m\u001B[0;34m(\u001B[0m\u001B[0mpredict_data\u001B[0m\u001B[0;34m,\u001B[0m \u001B[0mattns\u001B[0m\u001B[0;34m,\u001B[0m \u001B[0mhla\u001B[0m \u001B[0;34m=\u001B[0m \u001B[0mhla\u001B[0m\u001B[0;34m,\u001B[0m \u001B[0mpeptide\u001B[0m \u001B[0;34m=\u001B[0m \u001B[0mpeptide\u001B[0m\u001B[0;34m)\u001B[0m\u001B[0;34m\u001B[0m\u001B[0;34m\u001B[0m\u001B[0m\n\u001B[0m\u001B[1;32m     14\u001B[0m         \u001B[0mmut_data\u001B[0m\u001B[0;34m,\u001B[0m \u001B[0m_\u001B[0m\u001B[0;34m,\u001B[0m \u001B[0m_\u001B[0m\u001B[0;34m,\u001B[0m \u001B[0mmut_loader\u001B[0m \u001B[0;34m=\u001B[0m \u001B[0mread_predict_data\u001B[0m\u001B[0;34m(\u001B[0m\u001B[0mmut_peptides_df\u001B[0m\u001B[0;34m,\u001B[0m \u001B[0mbatch_size\u001B[0m\u001B[0;34m)\u001B[0m\u001B[0;34m\u001B[0m\u001B[0;34m\u001B[0m\u001B[0m\n\u001B[1;32m     15\u001B[0m \u001B[0;34m\u001B[0m\u001B[0m\n",
      "\u001B[0;32m~/projects/TransPHLA-AOMP/TransPHLA-AOMP/mutation.py\u001B[0m in \u001B[0;36mpHLA_mutation_peptides\u001B[0;34m(data, attn_data, idx, hla, peptide, print_)\u001B[0m\n\u001B[1;32m    368\u001B[0m                                                                      \u001B[0mhla\u001B[0m\u001B[0;34m,\u001B[0m\u001B[0;34m\u001B[0m\u001B[0;34m\u001B[0m\u001B[0m\n\u001B[1;32m    369\u001B[0m                                                                      \u001B[0mpeptide\u001B[0m\u001B[0;34m,\u001B[0m\u001B[0;34m\u001B[0m\u001B[0;34m\u001B[0m\u001B[0m\n\u001B[0;32m--> 370\u001B[0;31m                                                                      label = 1)\n\u001B[0m\u001B[1;32m    371\u001B[0m \u001B[0;34m\u001B[0m\u001B[0m\n\u001B[1;32m    372\u001B[0m     \u001B[0mmut_peptides\u001B[0m \u001B[0;34m=\u001B[0m \u001B[0;34m[\u001B[0m\u001B[0;34m]\u001B[0m\u001B[0;34m\u001B[0m\u001B[0;34m\u001B[0m\u001B[0m\n",
      "\u001B[0;32m~/projects/TransPHLA-AOMP/TransPHLA-AOMP/mutation.py\u001B[0m in \u001B[0;36mHLA_pHLA_contrib_keyaatype_attn_num\u001B[0;34m(data, attn_data, hla, peptide, label)\u001B[0m\n\u001B[1;32m    115\u001B[0m     \u001B[0;31m### HLA positive\u001B[0m\u001B[0;34m\u001B[0m\u001B[0;34m\u001B[0m\u001B[0;34m\u001B[0m\u001B[0m\n\u001B[1;32m    116\u001B[0m     \u001B[0mposition_contrib_keyaatype\u001B[0m\u001B[0;34m,\u001B[0m \u001B[0mposition_keyaatype\u001B[0m\u001B[0;34m,\u001B[0m \u001B[0maatype_position_contrib_pd\u001B[0m\u001B[0;34m,\u001B[0m \u001B[0maatype_position_pd\u001B[0m\u001B[0;34m,\u001B[0m \u001B[0maatype_position_num_pd\u001B[0m\u001B[0;31m\\\u001B[0m\u001B[0;34m\u001B[0m\u001B[0;34m\u001B[0m\u001B[0m\n\u001B[0;32m--> 117\u001B[0;31m     \u001B[0;34m=\u001B[0m \u001B[0mHLA_Length_aatype_position_contrib_attn_num\u001B[0m\u001B[0;34m(\u001B[0m\u001B[0mhla\u001B[0m\u001B[0;34m,\u001B[0m \u001B[0mlength\u001B[0m\u001B[0;34m,\u001B[0m \u001B[0mlabel\u001B[0m\u001B[0;34m)\u001B[0m\u001B[0;34m\u001B[0m\u001B[0;34m\u001B[0m\u001B[0m\n\u001B[0m\u001B[1;32m    118\u001B[0m \u001B[0;34m\u001B[0m\u001B[0m\n\u001B[1;32m    119\u001B[0m     \u001B[0;31m### pHLA\u001B[0m\u001B[0;34m\u001B[0m\u001B[0;34m\u001B[0m\u001B[0;34m\u001B[0m\u001B[0m\n",
      "\u001B[0;32m~/projects/TransPHLA-AOMP/TransPHLA-AOMP/mutation.py\u001B[0m in \u001B[0;36mHLA_Length_aatype_position_contrib_attn_num\u001B[0;34m(hla, length, label)\u001B[0m\n\u001B[1;32m    102\u001B[0m \u001B[0;32mdef\u001B[0m \u001B[0mHLA_Length_aatype_position_contrib_attn_num\u001B[0m\u001B[0;34m(\u001B[0m\u001B[0mhla\u001B[0m \u001B[0;34m=\u001B[0m \u001B[0;32mFalse\u001B[0m\u001B[0;34m,\u001B[0m \u001B[0mlength\u001B[0m \u001B[0;34m=\u001B[0m \u001B[0;36m9\u001B[0m\u001B[0;34m,\u001B[0m \u001B[0mlabel\u001B[0m \u001B[0;34m=\u001B[0m \u001B[0;36m1\u001B[0m\u001B[0;34m)\u001B[0m\u001B[0;34m:\u001B[0m\u001B[0;34m\u001B[0m\u001B[0;34m\u001B[0m\u001B[0m\n\u001B[1;32m    103\u001B[0m     \u001B[0maatype_position_contrib_pd\u001B[0m\u001B[0;34m,\u001B[0m \u001B[0maatype_position_pd\u001B[0m\u001B[0;34m,\u001B[0m \u001B[0maatype_position_num_pd\u001B[0m \u001B[0;34m=\u001B[0m\u001B[0;31m \u001B[0m\u001B[0;31m\\\u001B[0m\u001B[0;34m\u001B[0m\u001B[0;34m\u001B[0m\u001B[0m\n\u001B[0;32m--> 104\u001B[0;31m     \u001B[0mHLA_Length_Label_pepaatype_pepposition\u001B[0m\u001B[0;34m(\u001B[0m\u001B[0mhla\u001B[0m\u001B[0;34m,\u001B[0m \u001B[0mlength\u001B[0m\u001B[0;34m,\u001B[0m \u001B[0mlabel\u001B[0m\u001B[0;34m)\u001B[0m\u001B[0;34m\u001B[0m\u001B[0;34m\u001B[0m\u001B[0m\n\u001B[0m\u001B[1;32m    105\u001B[0m \u001B[0;34m\u001B[0m\u001B[0m\n\u001B[1;32m    106\u001B[0m     \u001B[0mposition_contrib_keyaatype\u001B[0m\u001B[0;34m,\u001B[0m \u001B[0mposition_keyaatype\u001B[0m \u001B[0;34m=\u001B[0m\u001B[0;31m \u001B[0m\u001B[0;31m\\\u001B[0m\u001B[0;34m\u001B[0m\u001B[0;34m\u001B[0m\u001B[0m\n",
      "\u001B[0;32m~/projects/TransPHLA-AOMP/TransPHLA-AOMP/mutation.py\u001B[0m in \u001B[0;36mHLA_Length_Label_pepaatype_pepposition\u001B[0;34m(hla, length, label)\u001B[0m\n\u001B[1;32m     75\u001B[0m \u001B[0;32mdef\u001B[0m \u001B[0mHLA_Length_Label_pepaatype_pepposition\u001B[0m\u001B[0;34m(\u001B[0m\u001B[0mhla\u001B[0m \u001B[0;34m=\u001B[0m \u001B[0;32mFalse\u001B[0m\u001B[0;34m,\u001B[0m \u001B[0mlength\u001B[0m \u001B[0;34m=\u001B[0m \u001B[0;36m9\u001B[0m\u001B[0;34m,\u001B[0m \u001B[0mlabel\u001B[0m \u001B[0;34m=\u001B[0m \u001B[0;36m1\u001B[0m\u001B[0;34m)\u001B[0m\u001B[0;34m:\u001B[0m\u001B[0;34m\u001B[0m\u001B[0;34m\u001B[0m\u001B[0m\n\u001B[1;32m     76\u001B[0m     \u001B[0maatype_position_pd\u001B[0m\u001B[0;34m,\u001B[0m \u001B[0maatype_position_num_pd\u001B[0m \u001B[0;34m=\u001B[0m \u001B[0mHLA_length_aatype_position_num\u001B[0m\u001B[0;34m(\u001B[0m\u001B[0mhla\u001B[0m\u001B[0;34m,\u001B[0m \u001B[0mlength\u001B[0m\u001B[0;34m,\u001B[0m \u001B[0mlabel\u001B[0m\u001B[0;34m)\u001B[0m\u001B[0;34m\u001B[0m\u001B[0;34m\u001B[0m\u001B[0m\n\u001B[0;32m---> 77\u001B[0;31m     \u001B[0maatype_position_contrib_pd\u001B[0m \u001B[0;34m=\u001B[0m \u001B[0mHLA_aatype_position_contribution\u001B[0m\u001B[0;34m(\u001B[0m\u001B[0maatype_position_pd\u001B[0m\u001B[0;34m,\u001B[0m \u001B[0maatype_position_num_pd\u001B[0m\u001B[0;34m,\u001B[0m \u001B[0mlength\u001B[0m\u001B[0;34m)\u001B[0m\u001B[0;34m\u001B[0m\u001B[0;34m\u001B[0m\u001B[0m\n\u001B[0m\u001B[1;32m     78\u001B[0m     \u001B[0;32mreturn\u001B[0m \u001B[0maatype_position_contrib_pd\u001B[0m\u001B[0;34m,\u001B[0m \u001B[0maatype_position_pd\u001B[0m\u001B[0;34m,\u001B[0m \u001B[0maatype_position_num_pd\u001B[0m\u001B[0;34m\u001B[0m\u001B[0;34m\u001B[0m\u001B[0m\n\u001B[1;32m     79\u001B[0m \u001B[0;34m\u001B[0m\u001B[0m\n",
      "\u001B[0;32m~/projects/TransPHLA-AOMP/TransPHLA-AOMP/mutation.py\u001B[0m in \u001B[0;36mHLA_aatype_position_contribution\u001B[0;34m(aatype_position_pd, aatype_position_num_pd, length)\u001B[0m\n\u001B[1;32m     65\u001B[0m \u001B[0;34m\u001B[0m\u001B[0m\n\u001B[1;32m     66\u001B[0m             \u001B[0mp_aa_posi\u001B[0m \u001B[0;34m=\u001B[0m \u001B[0maatype_position_pd\u001B[0m\u001B[0;34m.\u001B[0m\u001B[0mloc\u001B[0m\u001B[0;34m[\u001B[0m\u001B[0maa\u001B[0m\u001B[0;34m,\u001B[0m \u001B[0mposi\u001B[0m\u001B[0;34m]\u001B[0m \u001B[0;34m/\u001B[0m \u001B[0maatype_position_num_pd\u001B[0m\u001B[0;34m.\u001B[0m\u001B[0mloc\u001B[0m\u001B[0;34m[\u001B[0m\u001B[0maa\u001B[0m\u001B[0;34m,\u001B[0m \u001B[0mposi\u001B[0m\u001B[0;34m]\u001B[0m\u001B[0;34m\u001B[0m\u001B[0;34m\u001B[0m\u001B[0m\n\u001B[0;32m---> 67\u001B[0;31m             \u001B[0mp_posi\u001B[0m \u001B[0;34m=\u001B[0m \u001B[0maatype_position_num_pd\u001B[0m\u001B[0;34m.\u001B[0m\u001B[0mloc\u001B[0m\u001B[0;34m[\u001B[0m\u001B[0;34m'sum'\u001B[0m\u001B[0;34m,\u001B[0m \u001B[0;34m'sum'\u001B[0m\u001B[0;34m]\u001B[0m \u001B[0;34m/\u001B[0m \u001B[0maatype_position_pd\u001B[0m\u001B[0;34m.\u001B[0m\u001B[0mloc\u001B[0m\u001B[0;34m[\u001B[0m\u001B[0;34m'sum'\u001B[0m\u001B[0;34m,\u001B[0m \u001B[0;34m'sum'\u001B[0m\u001B[0;34m]\u001B[0m\u001B[0;34m\u001B[0m\u001B[0;34m\u001B[0m\u001B[0m\n\u001B[0m\u001B[1;32m     68\u001B[0m \u001B[0;34m\u001B[0m\u001B[0m\n\u001B[1;32m     69\u001B[0m             \u001B[0mcontrib\u001B[0m\u001B[0;34m[\u001B[0m\u001B[0maai\u001B[0m\u001B[0;34m,\u001B[0m \u001B[0mpi\u001B[0m\u001B[0;34m]\u001B[0m \u001B[0;34m=\u001B[0m \u001B[0mp_aa_posi\u001B[0m \u001B[0;34m*\u001B[0m \u001B[0mp_posi\u001B[0m\u001B[0;34m\u001B[0m\u001B[0;34m\u001B[0m\u001B[0m\n",
      "\u001B[0;32m~/projects/TransPHLA-AOMP/.venv/lib/python3.7/site-packages/pandas/core/indexing.py\u001B[0m in \u001B[0;36m__getitem__\u001B[0;34m(self, key)\u001B[0m\n\u001B[1;32m    871\u001B[0m                     \u001B[0;31m# AttributeError for IntervalTree get_value\u001B[0m\u001B[0;34m\u001B[0m\u001B[0;34m\u001B[0m\u001B[0;34m\u001B[0m\u001B[0m\n\u001B[1;32m    872\u001B[0m                     \u001B[0;32mpass\u001B[0m\u001B[0;34m\u001B[0m\u001B[0;34m\u001B[0m\u001B[0m\n\u001B[0;32m--> 873\u001B[0;31m             \u001B[0;32mreturn\u001B[0m \u001B[0mself\u001B[0m\u001B[0;34m.\u001B[0m\u001B[0m_getitem_tuple\u001B[0m\u001B[0;34m(\u001B[0m\u001B[0mkey\u001B[0m\u001B[0;34m)\u001B[0m\u001B[0;34m\u001B[0m\u001B[0;34m\u001B[0m\u001B[0m\n\u001B[0m\u001B[1;32m    874\u001B[0m         \u001B[0;32melse\u001B[0m\u001B[0;34m:\u001B[0m\u001B[0;34m\u001B[0m\u001B[0;34m\u001B[0m\u001B[0m\n\u001B[1;32m    875\u001B[0m             \u001B[0;31m# we by definition only have the 0th axis\u001B[0m\u001B[0;34m\u001B[0m\u001B[0;34m\u001B[0m\u001B[0;34m\u001B[0m\u001B[0m\n",
      "\u001B[0;32m~/projects/TransPHLA-AOMP/.venv/lib/python3.7/site-packages/pandas/core/indexing.py\u001B[0m in \u001B[0;36m_getitem_tuple\u001B[0;34m(self, tup)\u001B[0m\n\u001B[1;32m   1042\u001B[0m     \u001B[0;32mdef\u001B[0m \u001B[0m_getitem_tuple\u001B[0m\u001B[0;34m(\u001B[0m\u001B[0mself\u001B[0m\u001B[0;34m,\u001B[0m \u001B[0mtup\u001B[0m\u001B[0;34m:\u001B[0m \u001B[0mTuple\u001B[0m\u001B[0;34m)\u001B[0m\u001B[0;34m:\u001B[0m\u001B[0;34m\u001B[0m\u001B[0;34m\u001B[0m\u001B[0m\n\u001B[1;32m   1043\u001B[0m         \u001B[0;32mtry\u001B[0m\u001B[0;34m:\u001B[0m\u001B[0;34m\u001B[0m\u001B[0;34m\u001B[0m\u001B[0m\n\u001B[0;32m-> 1044\u001B[0;31m             \u001B[0;32mreturn\u001B[0m \u001B[0mself\u001B[0m\u001B[0;34m.\u001B[0m\u001B[0m_getitem_lowerdim\u001B[0m\u001B[0;34m(\u001B[0m\u001B[0mtup\u001B[0m\u001B[0;34m)\u001B[0m\u001B[0;34m\u001B[0m\u001B[0;34m\u001B[0m\u001B[0m\n\u001B[0m\u001B[1;32m   1045\u001B[0m         \u001B[0;32mexcept\u001B[0m \u001B[0mIndexingError\u001B[0m\u001B[0;34m:\u001B[0m\u001B[0;34m\u001B[0m\u001B[0;34m\u001B[0m\u001B[0m\n\u001B[1;32m   1046\u001B[0m             \u001B[0;32mpass\u001B[0m\u001B[0;34m\u001B[0m\u001B[0;34m\u001B[0m\u001B[0m\n",
      "\u001B[0;32m~/projects/TransPHLA-AOMP/.venv/lib/python3.7/site-packages/pandas/core/indexing.py\u001B[0m in \u001B[0;36m_getitem_lowerdim\u001B[0;34m(self, tup)\u001B[0m\n\u001B[1;32m    784\u001B[0m                 \u001B[0;31m# We don't need to check for tuples here because those are\u001B[0m\u001B[0;34m\u001B[0m\u001B[0;34m\u001B[0m\u001B[0;34m\u001B[0m\u001B[0m\n\u001B[1;32m    785\u001B[0m                 \u001B[0;31m#  caught by the _is_nested_tuple_indexer check above.\u001B[0m\u001B[0;34m\u001B[0m\u001B[0;34m\u001B[0m\u001B[0;34m\u001B[0m\u001B[0m\n\u001B[0;32m--> 786\u001B[0;31m                 \u001B[0msection\u001B[0m \u001B[0;34m=\u001B[0m \u001B[0mself\u001B[0m\u001B[0;34m.\u001B[0m\u001B[0m_getitem_axis\u001B[0m\u001B[0;34m(\u001B[0m\u001B[0mkey\u001B[0m\u001B[0;34m,\u001B[0m \u001B[0maxis\u001B[0m\u001B[0;34m=\u001B[0m\u001B[0mi\u001B[0m\u001B[0;34m)\u001B[0m\u001B[0;34m\u001B[0m\u001B[0;34m\u001B[0m\u001B[0m\n\u001B[0m\u001B[1;32m    787\u001B[0m \u001B[0;34m\u001B[0m\u001B[0m\n\u001B[1;32m    788\u001B[0m                 \u001B[0;31m# We should never have a scalar section here, because\u001B[0m\u001B[0;34m\u001B[0m\u001B[0;34m\u001B[0m\u001B[0;34m\u001B[0m\u001B[0m\n",
      "\u001B[0;32m~/projects/TransPHLA-AOMP/.venv/lib/python3.7/site-packages/pandas/core/indexing.py\u001B[0m in \u001B[0;36m_getitem_axis\u001B[0;34m(self, key, axis)\u001B[0m\n\u001B[1;32m   1108\u001B[0m         \u001B[0;31m# fall thru to straight lookup\u001B[0m\u001B[0;34m\u001B[0m\u001B[0;34m\u001B[0m\u001B[0;34m\u001B[0m\u001B[0m\n\u001B[1;32m   1109\u001B[0m         \u001B[0mself\u001B[0m\u001B[0;34m.\u001B[0m\u001B[0m_validate_key\u001B[0m\u001B[0;34m(\u001B[0m\u001B[0mkey\u001B[0m\u001B[0;34m,\u001B[0m \u001B[0maxis\u001B[0m\u001B[0;34m)\u001B[0m\u001B[0;34m\u001B[0m\u001B[0;34m\u001B[0m\u001B[0m\n\u001B[0;32m-> 1110\u001B[0;31m         \u001B[0;32mreturn\u001B[0m \u001B[0mself\u001B[0m\u001B[0;34m.\u001B[0m\u001B[0m_get_label\u001B[0m\u001B[0;34m(\u001B[0m\u001B[0mkey\u001B[0m\u001B[0;34m,\u001B[0m \u001B[0maxis\u001B[0m\u001B[0;34m=\u001B[0m\u001B[0maxis\u001B[0m\u001B[0;34m)\u001B[0m\u001B[0;34m\u001B[0m\u001B[0;34m\u001B[0m\u001B[0m\n\u001B[0m\u001B[1;32m   1111\u001B[0m \u001B[0;34m\u001B[0m\u001B[0m\n\u001B[1;32m   1112\u001B[0m     \u001B[0;32mdef\u001B[0m \u001B[0m_get_slice_axis\u001B[0m\u001B[0;34m(\u001B[0m\u001B[0mself\u001B[0m\u001B[0;34m,\u001B[0m \u001B[0mslice_obj\u001B[0m\u001B[0;34m:\u001B[0m \u001B[0mslice\u001B[0m\u001B[0;34m,\u001B[0m \u001B[0maxis\u001B[0m\u001B[0;34m:\u001B[0m \u001B[0mint\u001B[0m\u001B[0;34m)\u001B[0m\u001B[0;34m:\u001B[0m\u001B[0;34m\u001B[0m\u001B[0;34m\u001B[0m\u001B[0m\n",
      "\u001B[0;32m~/projects/TransPHLA-AOMP/.venv/lib/python3.7/site-packages/pandas/core/indexing.py\u001B[0m in \u001B[0;36m_get_label\u001B[0;34m(self, label, axis)\u001B[0m\n\u001B[1;32m   1057\u001B[0m     \u001B[0;32mdef\u001B[0m \u001B[0m_get_label\u001B[0m\u001B[0;34m(\u001B[0m\u001B[0mself\u001B[0m\u001B[0;34m,\u001B[0m \u001B[0mlabel\u001B[0m\u001B[0;34m,\u001B[0m \u001B[0maxis\u001B[0m\u001B[0;34m:\u001B[0m \u001B[0mint\u001B[0m\u001B[0;34m)\u001B[0m\u001B[0;34m:\u001B[0m\u001B[0;34m\u001B[0m\u001B[0;34m\u001B[0m\u001B[0m\n\u001B[1;32m   1058\u001B[0m         \u001B[0;31m# GH#5667 this will fail if the label is not present in the axis.\u001B[0m\u001B[0;34m\u001B[0m\u001B[0;34m\u001B[0m\u001B[0;34m\u001B[0m\u001B[0m\n\u001B[0;32m-> 1059\u001B[0;31m         \u001B[0;32mreturn\u001B[0m \u001B[0mself\u001B[0m\u001B[0;34m.\u001B[0m\u001B[0mobj\u001B[0m\u001B[0;34m.\u001B[0m\u001B[0mxs\u001B[0m\u001B[0;34m(\u001B[0m\u001B[0mlabel\u001B[0m\u001B[0;34m,\u001B[0m \u001B[0maxis\u001B[0m\u001B[0;34m=\u001B[0m\u001B[0maxis\u001B[0m\u001B[0;34m)\u001B[0m\u001B[0;34m\u001B[0m\u001B[0;34m\u001B[0m\u001B[0m\n\u001B[0m\u001B[1;32m   1060\u001B[0m \u001B[0;34m\u001B[0m\u001B[0m\n\u001B[1;32m   1061\u001B[0m     \u001B[0;32mdef\u001B[0m \u001B[0m_handle_lowerdim_multi_index_axis0\u001B[0m\u001B[0;34m(\u001B[0m\u001B[0mself\u001B[0m\u001B[0;34m,\u001B[0m \u001B[0mtup\u001B[0m\u001B[0;34m:\u001B[0m \u001B[0mTuple\u001B[0m\u001B[0;34m)\u001B[0m\u001B[0;34m:\u001B[0m\u001B[0;34m\u001B[0m\u001B[0;34m\u001B[0m\u001B[0m\n",
      "\u001B[0;32m~/projects/TransPHLA-AOMP/.venv/lib/python3.7/site-packages/pandas/core/generic.py\u001B[0m in \u001B[0;36mxs\u001B[0;34m(self, key, axis, level, drop_level)\u001B[0m\n\u001B[1;32m   3491\u001B[0m             \u001B[0mloc\u001B[0m\u001B[0;34m,\u001B[0m \u001B[0mnew_index\u001B[0m \u001B[0;34m=\u001B[0m \u001B[0mself\u001B[0m\u001B[0;34m.\u001B[0m\u001B[0mindex\u001B[0m\u001B[0;34m.\u001B[0m\u001B[0mget_loc_level\u001B[0m\u001B[0;34m(\u001B[0m\u001B[0mkey\u001B[0m\u001B[0;34m,\u001B[0m \u001B[0mdrop_level\u001B[0m\u001B[0;34m=\u001B[0m\u001B[0mdrop_level\u001B[0m\u001B[0;34m)\u001B[0m\u001B[0;34m\u001B[0m\u001B[0;34m\u001B[0m\u001B[0m\n\u001B[1;32m   3492\u001B[0m         \u001B[0;32melse\u001B[0m\u001B[0;34m:\u001B[0m\u001B[0;34m\u001B[0m\u001B[0;34m\u001B[0m\u001B[0m\n\u001B[0;32m-> 3493\u001B[0;31m             \u001B[0mloc\u001B[0m \u001B[0;34m=\u001B[0m \u001B[0mself\u001B[0m\u001B[0;34m.\u001B[0m\u001B[0mindex\u001B[0m\u001B[0;34m.\u001B[0m\u001B[0mget_loc\u001B[0m\u001B[0;34m(\u001B[0m\u001B[0mkey\u001B[0m\u001B[0;34m)\u001B[0m\u001B[0;34m\u001B[0m\u001B[0;34m\u001B[0m\u001B[0m\n\u001B[0m\u001B[1;32m   3494\u001B[0m \u001B[0;34m\u001B[0m\u001B[0m\n\u001B[1;32m   3495\u001B[0m             \u001B[0;32mif\u001B[0m \u001B[0misinstance\u001B[0m\u001B[0;34m(\u001B[0m\u001B[0mloc\u001B[0m\u001B[0;34m,\u001B[0m \u001B[0mnp\u001B[0m\u001B[0;34m.\u001B[0m\u001B[0mndarray\u001B[0m\u001B[0;34m)\u001B[0m\u001B[0;34m:\u001B[0m\u001B[0;34m\u001B[0m\u001B[0;34m\u001B[0m\u001B[0m\n",
      "\u001B[0;32m~/projects/TransPHLA-AOMP/.venv/lib/python3.7/site-packages/pandas/core/indexes/base.py\u001B[0m in \u001B[0;36mget_loc\u001B[0;34m(self, key, method, tolerance)\u001B[0m\n\u001B[1;32m   2894\u001B[0m                     \u001B[0;34m\"backfill or nearest lookups\"\u001B[0m\u001B[0;34m\u001B[0m\u001B[0;34m\u001B[0m\u001B[0m\n\u001B[1;32m   2895\u001B[0m                 )\n\u001B[0;32m-> 2896\u001B[0;31m             \u001B[0mcasted_key\u001B[0m \u001B[0;34m=\u001B[0m \u001B[0mself\u001B[0m\u001B[0;34m.\u001B[0m\u001B[0m_maybe_cast_indexer\u001B[0m\u001B[0;34m(\u001B[0m\u001B[0mkey\u001B[0m\u001B[0;34m)\u001B[0m\u001B[0;34m\u001B[0m\u001B[0;34m\u001B[0m\u001B[0m\n\u001B[0m\u001B[1;32m   2897\u001B[0m             \u001B[0;32mtry\u001B[0m\u001B[0;34m:\u001B[0m\u001B[0;34m\u001B[0m\u001B[0;34m\u001B[0m\u001B[0m\n\u001B[1;32m   2898\u001B[0m                 \u001B[0;32mreturn\u001B[0m \u001B[0mself\u001B[0m\u001B[0;34m.\u001B[0m\u001B[0m_engine\u001B[0m\u001B[0;34m.\u001B[0m\u001B[0mget_loc\u001B[0m\u001B[0;34m(\u001B[0m\u001B[0mcasted_key\u001B[0m\u001B[0;34m)\u001B[0m\u001B[0;34m\u001B[0m\u001B[0;34m\u001B[0m\u001B[0m\n",
      "\u001B[0;32m~/projects/TransPHLA-AOMP/.venv/lib/python3.7/site-packages/pandas/core/indexes/category.py\u001B[0m in \u001B[0;36m_maybe_cast_indexer\u001B[0;34m(self, key)\u001B[0m\n\u001B[1;32m    435\u001B[0m \u001B[0;34m\u001B[0m\u001B[0m\n\u001B[1;32m    436\u001B[0m     \u001B[0;32mdef\u001B[0m \u001B[0m_maybe_cast_indexer\u001B[0m\u001B[0;34m(\u001B[0m\u001B[0mself\u001B[0m\u001B[0;34m,\u001B[0m \u001B[0mkey\u001B[0m\u001B[0;34m)\u001B[0m\u001B[0;34m:\u001B[0m\u001B[0;34m\u001B[0m\u001B[0;34m\u001B[0m\u001B[0m\n\u001B[0;32m--> 437\u001B[0;31m         \u001B[0mcode\u001B[0m \u001B[0;34m=\u001B[0m \u001B[0mself\u001B[0m\u001B[0;34m.\u001B[0m\u001B[0mcategories\u001B[0m\u001B[0;34m.\u001B[0m\u001B[0mget_loc\u001B[0m\u001B[0;34m(\u001B[0m\u001B[0mkey\u001B[0m\u001B[0;34m)\u001B[0m\u001B[0;34m\u001B[0m\u001B[0;34m\u001B[0m\u001B[0m\n\u001B[0m\u001B[1;32m    438\u001B[0m         \u001B[0mcode\u001B[0m \u001B[0;34m=\u001B[0m \u001B[0mself\u001B[0m\u001B[0;34m.\u001B[0m\u001B[0mcodes\u001B[0m\u001B[0;34m.\u001B[0m\u001B[0mdtype\u001B[0m\u001B[0;34m.\u001B[0m\u001B[0mtype\u001B[0m\u001B[0;34m(\u001B[0m\u001B[0mcode\u001B[0m\u001B[0;34m)\u001B[0m\u001B[0;34m\u001B[0m\u001B[0;34m\u001B[0m\u001B[0m\n\u001B[1;32m    439\u001B[0m         \u001B[0;32mreturn\u001B[0m \u001B[0mcode\u001B[0m\u001B[0;34m\u001B[0m\u001B[0;34m\u001B[0m\u001B[0m\n",
      "\u001B[0;32m~/projects/TransPHLA-AOMP/.venv/lib/python3.7/site-packages/pandas/core/indexes/base.py\u001B[0m in \u001B[0;36mget_loc\u001B[0;34m(self, key, method, tolerance)\u001B[0m\n\u001B[1;32m   2898\u001B[0m                 \u001B[0;32mreturn\u001B[0m \u001B[0mself\u001B[0m\u001B[0;34m.\u001B[0m\u001B[0m_engine\u001B[0m\u001B[0;34m.\u001B[0m\u001B[0mget_loc\u001B[0m\u001B[0;34m(\u001B[0m\u001B[0mcasted_key\u001B[0m\u001B[0;34m)\u001B[0m\u001B[0;34m\u001B[0m\u001B[0;34m\u001B[0m\u001B[0m\n\u001B[1;32m   2899\u001B[0m             \u001B[0;32mexcept\u001B[0m \u001B[0mKeyError\u001B[0m \u001B[0;32mas\u001B[0m \u001B[0merr\u001B[0m\u001B[0;34m:\u001B[0m\u001B[0;34m\u001B[0m\u001B[0;34m\u001B[0m\u001B[0m\n\u001B[0;32m-> 2900\u001B[0;31m                 \u001B[0;32mraise\u001B[0m \u001B[0mKeyError\u001B[0m\u001B[0;34m(\u001B[0m\u001B[0mkey\u001B[0m\u001B[0;34m)\u001B[0m \u001B[0;32mfrom\u001B[0m \u001B[0merr\u001B[0m\u001B[0;34m\u001B[0m\u001B[0;34m\u001B[0m\u001B[0m\n\u001B[0m\u001B[1;32m   2901\u001B[0m \u001B[0;34m\u001B[0m\u001B[0m\n\u001B[1;32m   2902\u001B[0m         \u001B[0;32mif\u001B[0m \u001B[0mtolerance\u001B[0m \u001B[0;32mis\u001B[0m \u001B[0;32mnot\u001B[0m \u001B[0;32mNone\u001B[0m\u001B[0;34m:\u001B[0m\u001B[0;34m\u001B[0m\u001B[0;34m\u001B[0m\u001B[0m\n",
      "\u001B[0;31mKeyError\u001B[0m: 'sum'"
     ]
    }
   ],
   "source": [
    "from tqdm import trange\n",
    "if args.output_mutation:\n",
    "    mut_savepath = args.output_dir + '/mutation/'\n",
    "    if not os.path.exists(mut_savepath):\n",
    "        os.makedirs(mut_savepath, exist_ok=True)\n",
    "    \n",
    "    for idx in trange(len(predict_data)):\n",
    "        peptide: str = predict_data.iloc[idx].peptide\n",
    "        hla: str = predict_data.iloc[idx].HLA\n",
    "        \n",
    "        if len(peptide) < 8 or len(peptide) > 14: continue\n",
    "            \n",
    "        mut_peptides_df = pHLA_mutation_peptides(predict_data, attns, hla = hla, peptide = peptide)\n",
    "        mut_data, _, _, mut_loader = read_predict_data(mut_peptides_df, batch_size)\n",
    "\n",
    "        model_eval = Transformer().to(device)\n",
    "        model_eval.load_state_dict(torch.load(model_file), strict = True)\n",
    "\n",
    "        model_eval.eval()\n",
    "        y_pred, y_prob, _ = eval_step(model_eval, mut_loader, args.threshold, use_cuda)\n",
    "\n",
    "        mut_data['y_pred'], mut_data['y_prob'] = y_pred, y_prob\n",
    "        mut_data = mut_data.round({'y_prob': 4})\n",
    "        mut_data.to_csv(mut_savepath + '{}_{}_mutation.csv'.format(hla, peptide), index = False)\n",
    "        print('********** {} | {} → # Mutation peptides = {}'.format(hla, peptide, mut_data.shape[0]-1))\n",
    "        \n",
    "        mut_peptides_IEDBfmt = ' '.join(mut_data.mutation_peptide)\n",
    "        print('If you want to use IEDB tools to predict IC50, please use these format: \\n {}'.format(mut_peptides_IEDBfmt))"
   ]
  },
  {
   "cell_type": "code",
   "execution_count": 26,
   "outputs": [
    {
     "data": {
      "text/plain": "torch.Tensor"
     },
     "execution_count": 26,
     "metadata": {},
     "output_type": "execute_result"
    }
   ],
   "source": [],
   "metadata": {
    "collapsed": false,
    "pycharm": {
     "name": "#%%\n"
    }
   }
  },
  {
   "cell_type": "markdown",
   "metadata": {},
   "source": [
    "# 压缩文件"
   ]
  },
  {
   "cell_type": "code",
   "execution_count": 12,
   "metadata": {
    "collapsed": true
   },
   "outputs": [],
   "source": [
    "# mut_mb = 25/1024\n",
    "# fig_mb = 2\n",
    "# attn_mb = 10/1024\n",
    "# (mut_mb + fig_mb + attn_mb)*2000 "
   ]
  },
  {
   "cell_type": "code",
   "execution_count": 2,
   "metadata": {
    "collapsed": true
   },
   "outputs": [],
   "source": [
    "from utils import make_zip\n",
    "make_zip(source_dir = '/home/chujunyi/5_ZY_MHC/webserver', output_filename = '/home/chujunyi/5_ZY_MHC/webserver.zip')"
   ]
  },
  {
   "cell_type": "code",
   "execution_count": 10,
   "metadata": {
    "collapsed": true
   },
   "outputs": [],
   "source": [
    "# make_zip(source_dir = args.output_dir, output_filename = './results.zip')\n",
    "# import shutil\n",
    "# shutil.rmtree(args.output_dir)"
   ]
  }
 ],
 "metadata": {
  "kernelspec": {
   "name": "python3",
   "language": "python",
   "display_name": "Python 3 (ipykernel)"
  },
  "language_info": {
   "codemirror_mode": {
    "name": "ipython",
    "version": 3
   },
   "file_extension": ".py",
   "mimetype": "text/x-python",
   "name": "python",
   "nbconvert_exporter": "python",
   "pygments_lexer": "ipython3",
   "version": "3.7.8"
  }
 },
 "nbformat": 4,
 "nbformat_minor": 2
}